{
  "cells": [
    {
      "cell_type": "markdown",
      "metadata": {
        "id": "phkn-dXV7-3-"
      },
      "source": [
        "## Procesamiento de lenguaje natural\n",
        "## Modelo de lenguaje con tokenización por caracteres\n",
        "\n",
        "### Consigna\n",
        "- Seleccionar un corpus de texto sobre el cual entrenar el modelo de lenguaje.\n",
        "- Realizar el pre-procesamiento adecuado para tokenizar el corpus, estructurar el dataset y separar entre datos de entrenamiento y validación.\n",
        "- Proponer arquitecturas de redes neuronales basadas en unidades recurrentes para implementar un modelo de lenguaje.\n",
        "- Con el o los modelos que consideren adecuados, generar nuevas secuencias a partir de secuencias de contexto con las estrategias de greedy search y beam search determístico y estocástico. En este último caso observar el efecto de la temperatura en la generación de secuencias.\n",
        "\n",
        "\n",
        "### Sugerencias\n",
        "- Durante el entrenamiento, guiarse por el descenso de la perplejidad en los datos de validación para finalizar el entrenamiento. Para ello se provee un callback.\n",
        "- Explorar utilizar SimpleRNN (celda de Elman), LSTM y GRU.\n",
        "- rmsprop es el optimizador recomendado para la buena convergencia. No obstante se pueden explorar otros.\n"
      ]
    },
    {
      "cell_type": "code",
      "execution_count": 1,
      "metadata": {
        "id": "nnqO7fdMFZr7"
      },
      "outputs": [],
      "source": [
        "!pip install -q tensorflow\n",
        "!pip install -q bs4\n",
        "!pip install -q lxml\n",
        "!pip install -q gradio"
      ]
    },
    {
      "cell_type": "code",
      "execution_count": 2,
      "metadata": {
        "id": "76VWlIEN83aZ"
      },
      "outputs": [],
      "source": [
        "# librerias necesarias\n",
        "import os\n",
        "import random\n",
        "import io\n",
        "import pickle\n",
        "import time\n",
        "\n",
        "import numpy as np\n",
        "import pandas as pd\n",
        "import matplotlib.pyplot as plt\n",
        "\n",
        "from tensorflow import keras\n",
        "from tensorflow.keras import layers\n",
        "from tensorflow.keras.models import Sequential\n",
        "from tensorflow.keras.layers import Dense, SimpleRNN, LSTM, GRU, TimeDistributed\n",
        "from tensorflow.keras.layers import Input\n",
        "from tensorflow.keras.utils import pad_sequences\n",
        "from tensorflow.keras.optimizers import RMSprop\n",
        "\n",
        "import bs4 as bs\n",
        "import urllib.request\n",
        "\n",
        "# fija seeds para reproducibilidad\n",
        "SEED = 42\n",
        "random.seed(SEED)\n",
        "np.random.seed(SEED)\n",
        "import tensorflow as tf\n",
        "tf.random.set_seed(SEED)"
      ]
    },
    {
      "cell_type": "markdown",
      "metadata": {
        "id": "02TLOiSL9DAg"
      },
      "source": [
        "### **1) Parámetros generales**"
      ]
    },
    {
      "cell_type": "code",
      "execution_count": 3,
      "metadata": {
        "id": "t_85UGks9PRs"
      },
      "outputs": [],
      "source": [
        "max_context_size = 100         # tamaño de la ventana (contexto)\n",
        "p_val = 0.1                    # proporción para validación\n",
        "batch_size = 256\n",
        "max_epochs = 15\n",
        "patience = 5                   # paciencia para el PplCallback\n",
        "models_to_test = [\"SimpleRNN\", \"LSTM\", \"GRU\"]\n",
        "rms_lr = 0.001                 # learning rate para RMSprop"
      ]
    },
    {
      "cell_type": "markdown",
      "metadata": {
        "id": "S1TvwrFv9XJa"
      },
      "source": [
        "### **2) Descargar y preprocesar corpus**"
      ]
    },
    {
      "cell_type": "code",
      "execution_count": 4,
      "metadata": {
        "colab": {
          "base_uri": "https://localhost:8080/"
        },
        "id": "mKXQ4MqA9hZT",
        "outputId": "c4de1700-e6aa-42a7-8f77-e5377509c91d"
      },
      "outputs": [
        {
          "name": "stdout",
          "output_type": "stream",
          "text": [
            "Descargando texto desde: https://www.textos.info/julio-verne/viaje-al-centro-de-la-tierra/ebook\n",
            "Texto cargado. Longitud (caracteres): 423888\n",
            "Muestra inicial del texto:\n",
            " el domingo 24 de mayo de 1863, mi tío, el profesor lidenbrock, entró rápidamente a su hogar, situado en el número 19 de la könig‑strasse, una de las calles más tradicionales del barrio antiguo de hamburgo. marta, su excelente criada, se preocupó sobremanera, creyendo que se había retrasado, pues apenas empezaba a cocinar la comida en el hornillo. “bueno” —pensé para mí—, “si mi tío viene con hambre, se va a armar la de san quintín; porque no conozco a otro hombre de menos paciencia”. —¡tan temprano y ya está aquí el señor lidenbrock! —exclamó la pobre marta, con arrebol, entreabriendo la puerta del comedor. —sí, marta; pero tú no tienes la culpa de que la comida no esté lista todavía, porque es temprano, aún no son las dos. acaba de dar la media hora en san miguel. —¿y por qué ha venido tan pronto el señor lidenbrock? —él lo explicará, seguramente. —¡ahí viene! yo me escapo. señor axel, cálmelo usted, por favor. y la excelente marta se retiró presurosa a su recinto culinario, dejándome\n"
          ]
        }
      ],
      "source": [
        "url = 'https://www.textos.info/julio-verne/viaje-al-centro-de-la-tierra/ebook'\n",
        "print(\"Descargando texto desde:\", url)\n",
        "raw_html = urllib.request.urlopen(url).read()\n",
        "article_html = bs.BeautifulSoup(raw_html, 'lxml')\n",
        "article_paragraphs = article_html.find_all('p')\n",
        "\n",
        "article_text = ''\n",
        "for para in article_paragraphs:\n",
        "    article_text += para.text + ' '\n",
        "\n",
        "# preprocesamiento básico: minusculas y limpieza mínima\n",
        "article_text = article_text.lower()\n",
        "\n",
        "# remover saltos de línea extra, pero conservar espacios\n",
        "article_text = article_text.replace('\\r', ' ').replace('\\n', ' ')\n",
        "# reducir espacios múltiples\n",
        "article_text = ' '.join(article_text.split())\n",
        "\n",
        "print(\"Texto cargado. Longitud (caracteres):\", len(article_text))\n",
        "print(\"Muestra inicial del texto:\\n\", article_text[:1000])"
      ]
    },
    {
      "cell_type": "markdown",
      "metadata": {
        "id": "8mz_oOzi910F"
      },
      "source": [
        "### **3) Tokenización por caracteres (vocabulario)**"
      ]
    },
    {
      "cell_type": "code",
      "execution_count": 5,
      "metadata": {
        "colab": {
          "base_uri": "https://localhost:8080/"
        },
        "id": "cjkYsrhG95Ys",
        "outputId": "85a82cf6-72b4-4df0-bf41-a33ea4e88605"
      },
      "outputs": [
        {
          "name": "stdout",
          "output_type": "stream",
          "text": [
            "Tamaño vocab (caracteres únicos): 74\n"
          ]
        }
      ],
      "source": [
        "chars_vocab = sorted(set(article_text))  # ordenado para consistencia\n",
        "vocab_size = len(chars_vocab)\n",
        "print(\"Tamaño vocab (caracteres únicos):\", vocab_size)\n",
        "\n",
        "char2idx = {k: v for v, k in enumerate(chars_vocab)}\n",
        "idx2char = {v: k for k, v in char2idx.items()}\n",
        "\n",
        "# tokenizamos todo el texto\n",
        "tokenized_text = [char2idx[ch] for ch in article_text]"
      ]
    },
    {
      "cell_type": "markdown",
      "metadata": {
        "id": "jhNzUaLx9_VN"
      },
      "source": [
        "### **4) Construir dataset (ventanas) y split train/val**"
      ]
    },
    {
      "cell_type": "code",
      "execution_count": 6,
      "metadata": {
        "colab": {
          "base_uri": "https://localhost:8080/"
        },
        "id": "8VnQBRVB-DEE",
        "outputId": "b078890e-4020-4cd6-c03d-dfce5045c334"
      },
      "outputs": [
        {
          "name": "stdout",
          "output_type": "stream",
          "text": [
            "num_val (secuencias de validación): 424\n",
            "X.shape (before reshape): (381388, 100)  y.shape: (381388, 100)\n",
            "X.shape (final): (381388, 100, 1)  y.shape: (381388, 100, 1)\n",
            "Ejemplo (primeros 10 tokens de X[0]): [27 34  0 26 37 35 31 36 29 37]\n",
            "Ejemplo decode: el domingo 24 de mayo de 1863, mi tío, el profesor\n"
          ]
        }
      ],
      "source": [
        "num_val = int(np.ceil(len(tokenized_text) * p_val / max_context_size))\n",
        "print(\"num_val (secuencias de validación):\", num_val)\n",
        "\n",
        "# separar porciones\n",
        "train_text = tokenized_text[:-num_val * max_context_size]\n",
        "val_text = tokenized_text[-num_val * max_context_size:]\n",
        "\n",
        "# construir secuencias de longitud max_context_size (sliding window)\n",
        "tokenized_sentences_train = [train_text[i:i + max_context_size] for i in range(len(train_text) - max_context_size + 1)]\n",
        "tokenized_sentences_val = [val_text[i * max_context_size:(i + 1) * (max_context_size)] for i in range(num_val)]\n",
        "\n",
        "# construir X, y (desplazadas una posición)\n",
        "X = np.array(tokenized_sentences_train[:-1])   # cada entrada es una ventana completa\n",
        "y = np.array(tokenized_sentences_train[1:])    # target: siguiente ventana (desfase 1)\n",
        "\n",
        "print(\"X.shape (before reshape):\", X.shape, \" y.shape:\", y.shape)\n",
        "# reshape para tener dimensión de feature 1 por timestep (integers)\n",
        "X = X.reshape((-1, max_context_size, 1))\n",
        "# y: Keras espera enteros por timestep para sparse_categorical_crossentropy\n",
        "y = y.reshape((-1, max_context_size, 1))\n",
        "\n",
        "print(\"X.shape (final):\", X.shape, \" y.shape:\", y.shape)\n",
        "print(\"Ejemplo (primeros 10 tokens de X[0]):\", X[0, :10, 0])\n",
        "print(\"Ejemplo decode:\", ''.join([idx2char[int(i)] for i in X[0, :50, 0]]))"
      ]
    },
    {
      "cell_type": "markdown",
      "metadata": {
        "id": "L4TSvaYo-PGe"
      },
      "source": [
        "### **5) Callback de Perplejidad**"
      ]
    },
    {
      "cell_type": "code",
      "execution_count": 7,
      "metadata": {
        "id": "c-1sbeGB-UDo"
      },
      "outputs": [],
      "source": [
        "class PplCallback(keras.callbacks.Callback):\n",
        "    \"\"\"\n",
        "    Calcula perplejidad en validación al final de cada epoch y realiza early stopping\n",
        "    si no mejora durante `patience` epochs. Guarda el mejor modelo.\n",
        "    \"\"\"\n",
        "    def __init__(self, val_data_sequences, max_context_size, char2idx_map, idx2char_map, history_ppl, patience=5, save_path_prefix=\"model\"):\n",
        "        super().__init__()\n",
        "        self.val_data = val_data_sequences  # lista de secuencias (cada una longitud max_context_size)\n",
        "        self.max_context_size = max_context_size\n",
        "        self.history_ppl = history_ppl\n",
        "        self.patience = patience\n",
        "        self.min_score = np.inf\n",
        "        self.patience_counter = 0\n",
        "        self.save_path_prefix = save_path_prefix\n",
        "\n",
        "        # preparar subsecuencias para evaluación:\n",
        "        self.padded = []\n",
        "        self.target = []\n",
        "        self.info = []  # rangos para cada original seq\n",
        "        count = 0\n",
        "        for seq in self.val_data:\n",
        "            # subseqs: seq[:i] para i=1..len-1 y targets seq[i]\n",
        "            len_seq = len(seq)\n",
        "            subseq = [seq[:i] for i in range(1, len_seq)]\n",
        "            self.target.extend([seq[i] for i in range(1, len_seq)])\n",
        "            if len(subseq) != 0:\n",
        "                padded = pad_sequences(subseq, maxlen=self.max_context_size, padding='pre')\n",
        "                self.padded.append(padded)\n",
        "                self.info.append((count, count + len_seq - 1))\n",
        "                count += len_seq - 1\n",
        "\n",
        "        if len(self.padded) > 0:\n",
        "            self.padded = np.vstack(self.padded)\n",
        "            # reshape para que TimeDistributed(CategoryEncoding) reciba shape (..., timesteps, 1)\n",
        "            self.padded = self.padded.reshape((-1, self.max_context_size, 1))\n",
        "        else:\n",
        "            self.padded = np.zeros((0, self.max_context_size, 1), dtype=int)\n",
        "            self.info = []\n",
        "\n",
        "    def on_epoch_end(self, epoch, logs=None):\n",
        "        if self.padded.shape[0] == 0:\n",
        "            print(\"No hay secuencias de validación para perplejidad.\")\n",
        "            return\n",
        "\n",
        "        preds = self.model.predict(self.padded, verbose=0)\n",
        "        # preds shape: (N, timesteps, vocab_size)\n",
        "        scores = []\n",
        "        # transformar target a lista de ints\n",
        "        targets = self.target\n",
        "        for start, end in self.info:\n",
        "            probs = [preds[idx_seq, -1, idx_vocab] for idx_seq, idx_vocab in zip(range(start, end), targets[start:end])]\n",
        "            # evitar ceros\n",
        "            probs = np.clip(probs, 1e-12, 1.0)\n",
        "            ppl = np.exp(-np.sum(np.log(probs)) / len(probs))\n",
        "            scores.append(ppl)\n",
        "        current_score = np.mean(scores)\n",
        "        self.history_ppl.append(current_score)\n",
        "        print(f\"\\n mean perplexity: {current_score} \\n\")\n",
        "        # early stopping & save best\n",
        "        if current_score < self.min_score:\n",
        "            self.min_score = current_score\n",
        "            # save model with prefix + epoch\n",
        "            save_name = f\"{self.save_path_prefix}_best.keras\"\n",
        "            self.model.save(save_name)\n",
        "            print(\"Se guardó el nuevo modelo en\", save_name)\n",
        "            self.patience_counter = 0\n",
        "        else:\n",
        "            self.patience_counter += 1\n",
        "            if self.patience_counter >= self.patience:\n",
        "                print(\"Se detiene el entrenamiento (se alcanzó el límite de paciencia de PplCallback).\")\n",
        "                self.model.stop_training = True\n"
      ]
    },
    {
      "cell_type": "markdown",
      "metadata": {
        "id": "tkeVDkgk_nzv"
      },
      "source": [
        "### **6) Función para construir modelo recurrente**"
      ]
    },
    {
      "cell_type": "code",
      "execution_count": 8,
      "metadata": {
        "id": "IEtKCvUH_2ZY"
      },
      "outputs": [],
      "source": [
        "def build_model(arch=\"LSTM\", vocab_size=vocab_size, rnn_units=200, input_shape=(None,1), dropout=0.1, recurrent_dropout=0.1, use_embedding=False, embedding_dim=64):\n",
        "    \"\"\"\n",
        "    arch: \"SimpleRNN\", \"LSTM\", \"GRU\"\n",
        "    \"\"\"\n",
        "    model = Sequential()\n",
        "\n",
        "    # One-hot via CategoryEncoding rodeado por TimeDistributed\n",
        "    # CategoryEncoding requiere timesteps x 1 integer input\n",
        "    model.add(TimeDistributed(layers.CategoryEncoding(num_tokens=vocab_size, output_mode=\"one_hot\"),\n",
        "                                  input_shape=input_shape))\n",
        "\n",
        "    # agregar la celda recurrente según arch\n",
        "    if arch == \"SimpleRNN\":\n",
        "        model.add(SimpleRNN(rnn_units, return_sequences=True, dropout=dropout, recurrent_dropout=recurrent_dropout))\n",
        "    elif arch == \"LSTM\":\n",
        "        model.add(LSTM(rnn_units, return_sequences=True, dropout=dropout, recurrent_dropout=recurrent_dropout))\n",
        "    elif arch == \"GRU\":\n",
        "        model.add(GRU(rnn_units, return_sequences=True, dropout=dropout, recurrent_dropout=recurrent_dropout))\n",
        "    else:\n",
        "        raise ValueError(\"arch must be one of SimpleRNN/LSTM/GRU\")\n",
        "\n",
        "    model.add(Dense(vocab_size, activation=\"softmax\"))\n",
        "    opt = RMSprop(learning_rate=rms_lr)\n",
        "    model.compile(loss='sparse_categorical_crossentropy', optimizer=opt)\n",
        "    return model"
      ]
    },
    {
      "cell_type": "markdown",
      "metadata": {
        "id": "mpKoFisYBCte"
      },
      "source": [
        "### **7) Entrenamiento**"
      ]
    },
    {
      "cell_type": "code",
      "execution_count": 9,
      "metadata": {
        "colab": {
          "base_uri": "https://localhost:8080/",
          "height": 1000
        },
        "id": "avkRubefBLmf",
        "outputId": "ac11ae2d-7a39-4c8b-af00-f4d9096b583a"
      },
      "outputs": [
        {
          "name": "stdout",
          "output_type": "stream",
          "text": [
            "\n",
            "\n",
            "==============================================\n",
            "Entrenando arquitectura: SimpleRNN\n",
            "==============================================\n",
            "\n"
          ]
        },
        {
          "name": "stderr",
          "output_type": "stream",
          "text": [
            "/usr/local/lib/python3.12/dist-packages/keras/src/layers/core/wrapper.py:27: UserWarning: Do not pass an `input_shape`/`input_dim` argument to a layer. When using Sequential models, prefer using an `Input(shape)` object as the first layer in the model instead.\n",
            "  super().__init__(**kwargs)\n"
          ]
        },
        {
          "data": {
            "text/html": [
              "<pre style=\"white-space:pre;overflow-x:auto;line-height:normal;font-family:Menlo,'DejaVu Sans Mono',consolas,'Courier New',monospace\"><span style=\"font-weight: bold\">Model: \"sequential\"</span>\n",
              "</pre>\n"
            ],
            "text/plain": [
              "\u001b[1mModel: \"sequential\"\u001b[0m\n"
            ]
          },
          "metadata": {},
          "output_type": "display_data"
        },
        {
          "data": {
            "text/html": [
              "<pre style=\"white-space:pre;overflow-x:auto;line-height:normal;font-family:Menlo,'DejaVu Sans Mono',consolas,'Courier New',monospace\">┏━━━━━━━━━━━━━━━━━━━━━━━━━━━━━━━━━┳━━━━━━━━━━━━━━━━━━━━━━━━┳━━━━━━━━━━━━━━━┓\n",
              "┃<span style=\"font-weight: bold\"> Layer (type)                    </span>┃<span style=\"font-weight: bold\"> Output Shape           </span>┃<span style=\"font-weight: bold\">       Param # </span>┃\n",
              "┡━━━━━━━━━━━━━━━━━━━━━━━━━━━━━━━━━╇━━━━━━━━━━━━━━━━━━━━━━━━╇━━━━━━━━━━━━━━━┩\n",
              "│ time_distributed                │ (<span style=\"color: #00d7ff; text-decoration-color: #00d7ff\">None</span>, <span style=\"color: #00af00; text-decoration-color: #00af00\">100</span>, <span style=\"color: #00af00; text-decoration-color: #00af00\">74</span>)        │             <span style=\"color: #00af00; text-decoration-color: #00af00\">0</span> │\n",
              "│ (<span style=\"color: #0087ff; text-decoration-color: #0087ff\">TimeDistributed</span>)               │                        │               │\n",
              "├─────────────────────────────────┼────────────────────────┼───────────────┤\n",
              "│ simple_rnn (<span style=\"color: #0087ff; text-decoration-color: #0087ff\">SimpleRNN</span>)          │ (<span style=\"color: #00d7ff; text-decoration-color: #00d7ff\">None</span>, <span style=\"color: #00af00; text-decoration-color: #00af00\">100</span>, <span style=\"color: #00af00; text-decoration-color: #00af00\">200</span>)       │        <span style=\"color: #00af00; text-decoration-color: #00af00\">55,000</span> │\n",
              "├─────────────────────────────────┼────────────────────────┼───────────────┤\n",
              "│ dense (<span style=\"color: #0087ff; text-decoration-color: #0087ff\">Dense</span>)                   │ (<span style=\"color: #00d7ff; text-decoration-color: #00d7ff\">None</span>, <span style=\"color: #00af00; text-decoration-color: #00af00\">100</span>, <span style=\"color: #00af00; text-decoration-color: #00af00\">74</span>)        │        <span style=\"color: #00af00; text-decoration-color: #00af00\">14,874</span> │\n",
              "└─────────────────────────────────┴────────────────────────┴───────────────┘\n",
              "</pre>\n"
            ],
            "text/plain": [
              "┏━━━━━━━━━━━━━━━━━━━━━━━━━━━━━━━━━┳━━━━━━━━━━━━━━━━━━━━━━━━┳━━━━━━━━━━━━━━━┓\n",
              "┃\u001b[1m \u001b[0m\u001b[1mLayer (type)                   \u001b[0m\u001b[1m \u001b[0m┃\u001b[1m \u001b[0m\u001b[1mOutput Shape          \u001b[0m\u001b[1m \u001b[0m┃\u001b[1m \u001b[0m\u001b[1m      Param #\u001b[0m\u001b[1m \u001b[0m┃\n",
              "┡━━━━━━━━━━━━━━━━━━━━━━━━━━━━━━━━━╇━━━━━━━━━━━━━━━━━━━━━━━━╇━━━━━━━━━━━━━━━┩\n",
              "│ time_distributed                │ (\u001b[38;5;45mNone\u001b[0m, \u001b[38;5;34m100\u001b[0m, \u001b[38;5;34m74\u001b[0m)        │             \u001b[38;5;34m0\u001b[0m │\n",
              "│ (\u001b[38;5;33mTimeDistributed\u001b[0m)               │                        │               │\n",
              "├─────────────────────────────────┼────────────────────────┼───────────────┤\n",
              "│ simple_rnn (\u001b[38;5;33mSimpleRNN\u001b[0m)          │ (\u001b[38;5;45mNone\u001b[0m, \u001b[38;5;34m100\u001b[0m, \u001b[38;5;34m200\u001b[0m)       │        \u001b[38;5;34m55,000\u001b[0m │\n",
              "├─────────────────────────────────┼────────────────────────┼───────────────┤\n",
              "│ dense (\u001b[38;5;33mDense\u001b[0m)                   │ (\u001b[38;5;45mNone\u001b[0m, \u001b[38;5;34m100\u001b[0m, \u001b[38;5;34m74\u001b[0m)        │        \u001b[38;5;34m14,874\u001b[0m │\n",
              "└─────────────────────────────────┴────────────────────────┴───────────────┘\n"
            ]
          },
          "metadata": {},
          "output_type": "display_data"
        },
        {
          "data": {
            "text/html": [
              "<pre style=\"white-space:pre;overflow-x:auto;line-height:normal;font-family:Menlo,'DejaVu Sans Mono',consolas,'Courier New',monospace\"><span style=\"font-weight: bold\"> Total params: </span><span style=\"color: #00af00; text-decoration-color: #00af00\">69,874</span> (272.95 KB)\n",
              "</pre>\n"
            ],
            "text/plain": [
              "\u001b[1m Total params: \u001b[0m\u001b[38;5;34m69,874\u001b[0m (272.95 KB)\n"
            ]
          },
          "metadata": {},
          "output_type": "display_data"
        },
        {
          "data": {
            "text/html": [
              "<pre style=\"white-space:pre;overflow-x:auto;line-height:normal;font-family:Menlo,'DejaVu Sans Mono',consolas,'Courier New',monospace\"><span style=\"font-weight: bold\"> Trainable params: </span><span style=\"color: #00af00; text-decoration-color: #00af00\">69,874</span> (272.95 KB)\n",
              "</pre>\n"
            ],
            "text/plain": [
              "\u001b[1m Trainable params: \u001b[0m\u001b[38;5;34m69,874\u001b[0m (272.95 KB)\n"
            ]
          },
          "metadata": {},
          "output_type": "display_data"
        },
        {
          "data": {
            "text/html": [
              "<pre style=\"white-space:pre;overflow-x:auto;line-height:normal;font-family:Menlo,'DejaVu Sans Mono',consolas,'Courier New',monospace\"><span style=\"font-weight: bold\"> Non-trainable params: </span><span style=\"color: #00af00; text-decoration-color: #00af00\">0</span> (0.00 B)\n",
              "</pre>\n"
            ],
            "text/plain": [
              "\u001b[1m Non-trainable params: \u001b[0m\u001b[38;5;34m0\u001b[0m (0.00 B)\n"
            ]
          },
          "metadata": {},
          "output_type": "display_data"
        },
        {
          "name": "stdout",
          "output_type": "stream",
          "text": [
            "Epoch 1/15\n",
            "\u001b[1m1490/1490\u001b[0m \u001b[32m━━━━━━━━━━━━━━━━━━━━\u001b[0m\u001b[37m\u001b[0m \u001b[1m0s\u001b[0m 16ms/step - loss: 2.4355\n",
            " mean perplexity: 6.449993133544922 \n",
            "\n",
            "Se guardó el nuevo modelo en model_SimpleRNN_best.keras\n",
            "\u001b[1m1490/1490\u001b[0m \u001b[32m━━━━━━━━━━━━━━━━━━━━\u001b[0m\u001b[37m\u001b[0m \u001b[1m45s\u001b[0m 25ms/step - loss: 2.4353\n",
            "Epoch 2/15\n",
            "\u001b[1m1488/1490\u001b[0m \u001b[32m━━━━━━━━━━━━━━━━━━━\u001b[0m\u001b[37m━\u001b[0m \u001b[1m0s\u001b[0m 14ms/step - loss: 1.9421\n",
            " mean perplexity: 5.56279182434082 \n",
            "\n",
            "Se guardó el nuevo modelo en model_SimpleRNN_best.keras\n",
            "\u001b[1m1490/1490\u001b[0m \u001b[32m━━━━━━━━━━━━━━━━━━━━\u001b[0m\u001b[37m\u001b[0m \u001b[1m27s\u001b[0m 18ms/step - loss: 1.9420\n",
            "Epoch 3/15\n",
            "\u001b[1m1490/1490\u001b[0m \u001b[32m━━━━━━━━━━━━━━━━━━━━\u001b[0m\u001b[37m\u001b[0m \u001b[1m0s\u001b[0m 14ms/step - loss: 1.8393\n",
            " mean perplexity: 5.142533302307129 \n",
            "\n",
            "Se guardó el nuevo modelo en model_SimpleRNN_best.keras\n",
            "\u001b[1m1490/1490\u001b[0m \u001b[32m━━━━━━━━━━━━━━━━━━━━\u001b[0m\u001b[37m\u001b[0m \u001b[1m27s\u001b[0m 18ms/step - loss: 1.8393\n",
            "Epoch 4/15\n",
            "\u001b[1m1488/1490\u001b[0m \u001b[32m━━━━━━━━━━━━━━━━━━━\u001b[0m\u001b[37m━\u001b[0m \u001b[1m0s\u001b[0m 14ms/step - loss: 1.7923\n",
            " mean perplexity: 5.00040340423584 \n",
            "\n",
            "Se guardó el nuevo modelo en model_SimpleRNN_best.keras\n",
            "\u001b[1m1490/1490\u001b[0m \u001b[32m━━━━━━━━━━━━━━━━━━━━\u001b[0m\u001b[37m\u001b[0m \u001b[1m27s\u001b[0m 18ms/step - loss: 1.7923\n",
            "Epoch 5/15\n",
            "\u001b[1m1488/1490\u001b[0m \u001b[32m━━━━━━━━━━━━━━━━━━━\u001b[0m\u001b[37m━\u001b[0m \u001b[1m0s\u001b[0m 14ms/step - loss: 1.7653\n",
            " mean perplexity: 4.899244785308838 \n",
            "\n",
            "Se guardó el nuevo modelo en model_SimpleRNN_best.keras\n",
            "\u001b[1m1490/1490\u001b[0m \u001b[32m━━━━━━━━━━━━━━━━━━━━\u001b[0m\u001b[37m\u001b[0m \u001b[1m27s\u001b[0m 18ms/step - loss: 1.7652\n",
            "Epoch 6/15\n",
            "\u001b[1m1488/1490\u001b[0m \u001b[32m━━━━━━━━━━━━━━━━━━━\u001b[0m\u001b[37m━\u001b[0m \u001b[1m0s\u001b[0m 14ms/step - loss: 1.7470\n",
            " mean perplexity: 4.805389404296875 \n",
            "\n",
            "Se guardó el nuevo modelo en model_SimpleRNN_best.keras\n",
            "\u001b[1m1490/1490\u001b[0m \u001b[32m━━━━━━━━━━━━━━━━━━━━\u001b[0m\u001b[37m\u001b[0m \u001b[1m41s\u001b[0m 18ms/step - loss: 1.7470\n",
            "Epoch 7/15\n",
            "\u001b[1m1488/1490\u001b[0m \u001b[32m━━━━━━━━━━━━━━━━━━━\u001b[0m\u001b[37m━\u001b[0m \u001b[1m0s\u001b[0m 14ms/step - loss: 1.7333\n",
            " mean perplexity: 4.781227111816406 \n",
            "\n",
            "Se guardó el nuevo modelo en model_SimpleRNN_best.keras\n",
            "\u001b[1m1490/1490\u001b[0m \u001b[32m━━━━━━━━━━━━━━━━━━━━\u001b[0m\u001b[37m\u001b[0m \u001b[1m27s\u001b[0m 18ms/step - loss: 1.7333\n",
            "Epoch 8/15\n",
            "\u001b[1m1489/1490\u001b[0m \u001b[32m━━━━━━━━━━━━━━━━━━━\u001b[0m\u001b[37m━\u001b[0m \u001b[1m0s\u001b[0m 14ms/step - loss: 1.7230\n",
            " mean perplexity: 4.72432804107666 \n",
            "\n",
            "Se guardó el nuevo modelo en model_SimpleRNN_best.keras\n",
            "\u001b[1m1490/1490\u001b[0m \u001b[32m━━━━━━━━━━━━━━━━━━━━\u001b[0m\u001b[37m\u001b[0m \u001b[1m27s\u001b[0m 18ms/step - loss: 1.7230\n",
            "Epoch 9/15\n",
            "\u001b[1m1489/1490\u001b[0m \u001b[32m━━━━━━━━━━━━━━━━━━━\u001b[0m\u001b[37m━\u001b[0m \u001b[1m0s\u001b[0m 14ms/step - loss: 1.7139\n",
            " mean perplexity: 4.686262130737305 \n",
            "\n",
            "Se guardó el nuevo modelo en model_SimpleRNN_best.keras\n",
            "\u001b[1m1490/1490\u001b[0m \u001b[32m━━━━━━━━━━━━━━━━━━━━\u001b[0m\u001b[37m\u001b[0m \u001b[1m27s\u001b[0m 18ms/step - loss: 1.7139\n",
            "Epoch 10/15\n",
            "\u001b[1m1489/1490\u001b[0m \u001b[32m━━━━━━━━━━━━━━━━━━━\u001b[0m\u001b[37m━\u001b[0m \u001b[1m0s\u001b[0m 15ms/step - loss: 1.7077\n",
            " mean perplexity: 4.652946472167969 \n",
            "\n",
            "Se guardó el nuevo modelo en model_SimpleRNN_best.keras\n",
            "\u001b[1m1490/1490\u001b[0m \u001b[32m━━━━━━━━━━━━━━━━━━━━\u001b[0m\u001b[37m\u001b[0m \u001b[1m32s\u001b[0m 22ms/step - loss: 1.7077\n",
            "Epoch 11/15\n",
            "\u001b[1m1488/1490\u001b[0m \u001b[32m━━━━━━━━━━━━━━━━━━━\u001b[0m\u001b[37m━\u001b[0m \u001b[1m0s\u001b[0m 14ms/step - loss: 1.7023\n",
            " mean perplexity: 4.663169860839844 \n",
            "\n",
            "\u001b[1m1490/1490\u001b[0m \u001b[32m━━━━━━━━━━━━━━━━━━━━\u001b[0m\u001b[37m\u001b[0m \u001b[1m28s\u001b[0m 19ms/step - loss: 1.7023\n",
            "Epoch 12/15\n",
            "\u001b[1m1488/1490\u001b[0m \u001b[32m━━━━━━━━━━━━━━━━━━━\u001b[0m\u001b[37m━\u001b[0m \u001b[1m0s\u001b[0m 14ms/step - loss: 1.6978\n",
            " mean perplexity: 4.622905731201172 \n",
            "\n",
            "Se guardó el nuevo modelo en model_SimpleRNN_best.keras\n",
            "\u001b[1m1490/1490\u001b[0m \u001b[32m━━━━━━━━━━━━━━━━━━━━\u001b[0m\u001b[37m\u001b[0m \u001b[1m28s\u001b[0m 19ms/step - loss: 1.6978\n",
            "Epoch 13/15\n",
            "\u001b[1m1489/1490\u001b[0m \u001b[32m━━━━━━━━━━━━━━━━━━━\u001b[0m\u001b[37m━\u001b[0m \u001b[1m0s\u001b[0m 14ms/step - loss: 1.6932\n",
            " mean perplexity: 4.607152462005615 \n",
            "\n",
            "Se guardó el nuevo modelo en model_SimpleRNN_best.keras\n",
            "\u001b[1m1490/1490\u001b[0m \u001b[32m━━━━━━━━━━━━━━━━━━━━\u001b[0m\u001b[37m\u001b[0m \u001b[1m28s\u001b[0m 19ms/step - loss: 1.6932\n",
            "Epoch 14/15\n",
            "\u001b[1m1490/1490\u001b[0m \u001b[32m━━━━━━━━━━━━━━━━━━━━\u001b[0m\u001b[37m\u001b[0m \u001b[1m0s\u001b[0m 14ms/step - loss: 1.6899\n",
            " mean perplexity: 4.582732677459717 \n",
            "\n",
            "Se guardó el nuevo modelo en model_SimpleRNN_best.keras\n",
            "\u001b[1m1490/1490\u001b[0m \u001b[32m━━━━━━━━━━━━━━━━━━━━\u001b[0m\u001b[37m\u001b[0m \u001b[1m28s\u001b[0m 19ms/step - loss: 1.6899\n",
            "Epoch 15/15\n",
            "\u001b[1m1489/1490\u001b[0m \u001b[32m━━━━━━━━━━━━━━━━━━━\u001b[0m\u001b[37m━\u001b[0m \u001b[1m0s\u001b[0m 14ms/step - loss: 1.6872\n",
            " mean perplexity: 4.564990997314453 \n",
            "\n",
            "Se guardó el nuevo modelo en model_SimpleRNN_best.keras\n",
            "\u001b[1m1490/1490\u001b[0m \u001b[32m━━━━━━━━━━━━━━━━━━━━\u001b[0m\u001b[37m\u001b[0m \u001b[1m28s\u001b[0m 19ms/step - loss: 1.6872\n",
            "Tiempo de entrenamiento (SimpleRNN): 7.49 minutos\n",
            "Fin entrenamiento SimpleRNN. Mejor perplejidad encontrada: 4.564990997314453\n",
            "\n",
            "\n",
            "==============================================\n",
            "Entrenando arquitectura: LSTM\n",
            "==============================================\n",
            "\n"
          ]
        },
        {
          "data": {
            "text/html": [
              "<pre style=\"white-space:pre;overflow-x:auto;line-height:normal;font-family:Menlo,'DejaVu Sans Mono',consolas,'Courier New',monospace\"><span style=\"font-weight: bold\">Model: \"sequential_1\"</span>\n",
              "</pre>\n"
            ],
            "text/plain": [
              "\u001b[1mModel: \"sequential_1\"\u001b[0m\n"
            ]
          },
          "metadata": {},
          "output_type": "display_data"
        },
        {
          "data": {
            "text/html": [
              "<pre style=\"white-space:pre;overflow-x:auto;line-height:normal;font-family:Menlo,'DejaVu Sans Mono',consolas,'Courier New',monospace\">┏━━━━━━━━━━━━━━━━━━━━━━━━━━━━━━━━━┳━━━━━━━━━━━━━━━━━━━━━━━━┳━━━━━━━━━━━━━━━┓\n",
              "┃<span style=\"font-weight: bold\"> Layer (type)                    </span>┃<span style=\"font-weight: bold\"> Output Shape           </span>┃<span style=\"font-weight: bold\">       Param # </span>┃\n",
              "┡━━━━━━━━━━━━━━━━━━━━━━━━━━━━━━━━━╇━━━━━━━━━━━━━━━━━━━━━━━━╇━━━━━━━━━━━━━━━┩\n",
              "│ time_distributed_1              │ (<span style=\"color: #00d7ff; text-decoration-color: #00d7ff\">None</span>, <span style=\"color: #00af00; text-decoration-color: #00af00\">100</span>, <span style=\"color: #00af00; text-decoration-color: #00af00\">74</span>)        │             <span style=\"color: #00af00; text-decoration-color: #00af00\">0</span> │\n",
              "│ (<span style=\"color: #0087ff; text-decoration-color: #0087ff\">TimeDistributed</span>)               │                        │               │\n",
              "├─────────────────────────────────┼────────────────────────┼───────────────┤\n",
              "│ lstm (<span style=\"color: #0087ff; text-decoration-color: #0087ff\">LSTM</span>)                     │ (<span style=\"color: #00d7ff; text-decoration-color: #00d7ff\">None</span>, <span style=\"color: #00af00; text-decoration-color: #00af00\">100</span>, <span style=\"color: #00af00; text-decoration-color: #00af00\">200</span>)       │       <span style=\"color: #00af00; text-decoration-color: #00af00\">220,000</span> │\n",
              "├─────────────────────────────────┼────────────────────────┼───────────────┤\n",
              "│ dense_1 (<span style=\"color: #0087ff; text-decoration-color: #0087ff\">Dense</span>)                 │ (<span style=\"color: #00d7ff; text-decoration-color: #00d7ff\">None</span>, <span style=\"color: #00af00; text-decoration-color: #00af00\">100</span>, <span style=\"color: #00af00; text-decoration-color: #00af00\">74</span>)        │        <span style=\"color: #00af00; text-decoration-color: #00af00\">14,874</span> │\n",
              "└─────────────────────────────────┴────────────────────────┴───────────────┘\n",
              "</pre>\n"
            ],
            "text/plain": [
              "┏━━━━━━━━━━━━━━━━━━━━━━━━━━━━━━━━━┳━━━━━━━━━━━━━━━━━━━━━━━━┳━━━━━━━━━━━━━━━┓\n",
              "┃\u001b[1m \u001b[0m\u001b[1mLayer (type)                   \u001b[0m\u001b[1m \u001b[0m┃\u001b[1m \u001b[0m\u001b[1mOutput Shape          \u001b[0m\u001b[1m \u001b[0m┃\u001b[1m \u001b[0m\u001b[1m      Param #\u001b[0m\u001b[1m \u001b[0m┃\n",
              "┡━━━━━━━━━━━━━━━━━━━━━━━━━━━━━━━━━╇━━━━━━━━━━━━━━━━━━━━━━━━╇━━━━━━━━━━━━━━━┩\n",
              "│ time_distributed_1              │ (\u001b[38;5;45mNone\u001b[0m, \u001b[38;5;34m100\u001b[0m, \u001b[38;5;34m74\u001b[0m)        │             \u001b[38;5;34m0\u001b[0m │\n",
              "│ (\u001b[38;5;33mTimeDistributed\u001b[0m)               │                        │               │\n",
              "├─────────────────────────────────┼────────────────────────┼───────────────┤\n",
              "│ lstm (\u001b[38;5;33mLSTM\u001b[0m)                     │ (\u001b[38;5;45mNone\u001b[0m, \u001b[38;5;34m100\u001b[0m, \u001b[38;5;34m200\u001b[0m)       │       \u001b[38;5;34m220,000\u001b[0m │\n",
              "├─────────────────────────────────┼────────────────────────┼───────────────┤\n",
              "│ dense_1 (\u001b[38;5;33mDense\u001b[0m)                 │ (\u001b[38;5;45mNone\u001b[0m, \u001b[38;5;34m100\u001b[0m, \u001b[38;5;34m74\u001b[0m)        │        \u001b[38;5;34m14,874\u001b[0m │\n",
              "└─────────────────────────────────┴────────────────────────┴───────────────┘\n"
            ]
          },
          "metadata": {},
          "output_type": "display_data"
        },
        {
          "data": {
            "text/html": [
              "<pre style=\"white-space:pre;overflow-x:auto;line-height:normal;font-family:Menlo,'DejaVu Sans Mono',consolas,'Courier New',monospace\"><span style=\"font-weight: bold\"> Total params: </span><span style=\"color: #00af00; text-decoration-color: #00af00\">234,874</span> (917.48 KB)\n",
              "</pre>\n"
            ],
            "text/plain": [
              "\u001b[1m Total params: \u001b[0m\u001b[38;5;34m234,874\u001b[0m (917.48 KB)\n"
            ]
          },
          "metadata": {},
          "output_type": "display_data"
        },
        {
          "data": {
            "text/html": [
              "<pre style=\"white-space:pre;overflow-x:auto;line-height:normal;font-family:Menlo,'DejaVu Sans Mono',consolas,'Courier New',monospace\"><span style=\"font-weight: bold\"> Trainable params: </span><span style=\"color: #00af00; text-decoration-color: #00af00\">234,874</span> (917.48 KB)\n",
              "</pre>\n"
            ],
            "text/plain": [
              "\u001b[1m Trainable params: \u001b[0m\u001b[38;5;34m234,874\u001b[0m (917.48 KB)\n"
            ]
          },
          "metadata": {},
          "output_type": "display_data"
        },
        {
          "data": {
            "text/html": [
              "<pre style=\"white-space:pre;overflow-x:auto;line-height:normal;font-family:Menlo,'DejaVu Sans Mono',consolas,'Courier New',monospace\"><span style=\"font-weight: bold\"> Non-trainable params: </span><span style=\"color: #00af00; text-decoration-color: #00af00\">0</span> (0.00 B)\n",
              "</pre>\n"
            ],
            "text/plain": [
              "\u001b[1m Non-trainable params: \u001b[0m\u001b[38;5;34m0\u001b[0m (0.00 B)\n"
            ]
          },
          "metadata": {},
          "output_type": "display_data"
        },
        {
          "name": "stdout",
          "output_type": "stream",
          "text": [
            "Epoch 1/15\n",
            "\u001b[1m1490/1490\u001b[0m \u001b[32m━━━━━━━━━━━━━━━━━━━━\u001b[0m\u001b[37m\u001b[0m \u001b[1m0s\u001b[0m 263ms/step - loss: 2.6533\n",
            " mean perplexity: 8.210362434387207 \n",
            "\n",
            "Se guardó el nuevo modelo en model_LSTM_best.keras\n",
            "\u001b[1m1490/1490\u001b[0m \u001b[32m━━━━━━━━━━━━━━━━━━━━\u001b[0m\u001b[37m\u001b[0m \u001b[1m484s\u001b[0m 319ms/step - loss: 2.6532\n",
            "Epoch 2/15\n",
            "\u001b[1m1490/1490\u001b[0m \u001b[32m━━━━━━━━━━━━━━━━━━━━\u001b[0m\u001b[37m\u001b[0m \u001b[1m0s\u001b[0m 262ms/step - loss: 2.1127\n",
            " mean perplexity: 7.208709716796875 \n",
            "\n",
            "Se guardó el nuevo modelo en model_LSTM_best.keras\n",
            "\u001b[1m1490/1490\u001b[0m \u001b[32m━━━━━━━━━━━━━━━━━━━━\u001b[0m\u001b[37m\u001b[0m \u001b[1m470s\u001b[0m 316ms/step - loss: 2.1127\n",
            "Epoch 3/15\n",
            "\u001b[1m1490/1490\u001b[0m \u001b[32m━━━━━━━━━━━━━━━━━━━━\u001b[0m\u001b[37m\u001b[0m \u001b[1m0s\u001b[0m 259ms/step - loss: 2.0006\n",
            " mean perplexity: 6.591031074523926 \n",
            "\n",
            "Se guardó el nuevo modelo en model_LSTM_best.keras\n",
            "\u001b[1m1490/1490\u001b[0m \u001b[32m━━━━━━━━━━━━━━━━━━━━\u001b[0m\u001b[37m\u001b[0m \u001b[1m465s\u001b[0m 312ms/step - loss: 2.0006\n",
            "Epoch 4/15\n",
            "\u001b[1m1490/1490\u001b[0m \u001b[32m━━━━━━━━━━━━━━━━━━━━\u001b[0m\u001b[37m\u001b[0m \u001b[1m0s\u001b[0m 259ms/step - loss: 1.9203\n",
            " mean perplexity: 6.10617733001709 \n",
            "\n",
            "Se guardó el nuevo modelo en model_LSTM_best.keras\n",
            "\u001b[1m1490/1490\u001b[0m \u001b[32m━━━━━━━━━━━━━━━━━━━━\u001b[0m\u001b[37m\u001b[0m \u001b[1m467s\u001b[0m 313ms/step - loss: 1.9202\n",
            "Epoch 5/15\n",
            "\u001b[1m1490/1490\u001b[0m \u001b[32m━━━━━━━━━━━━━━━━━━━━\u001b[0m\u001b[37m\u001b[0m \u001b[1m0s\u001b[0m 257ms/step - loss: 1.8552\n",
            " mean perplexity: 5.7534356117248535 \n",
            "\n",
            "Se guardó el nuevo modelo en model_LSTM_best.keras\n",
            "\u001b[1m1490/1490\u001b[0m \u001b[32m━━━━━━━━━━━━━━━━━━━━\u001b[0m\u001b[37m\u001b[0m \u001b[1m460s\u001b[0m 309ms/step - loss: 1.8552\n",
            "Epoch 6/15\n",
            "\u001b[1m1490/1490\u001b[0m \u001b[32m━━━━━━━━━━━━━━━━━━━━\u001b[0m\u001b[37m\u001b[0m \u001b[1m0s\u001b[0m 256ms/step - loss: 1.7991\n",
            " mean perplexity: 5.459050178527832 \n",
            "\n",
            "Se guardó el nuevo modelo en model_LSTM_best.keras\n",
            "\u001b[1m1490/1490\u001b[0m \u001b[32m━━━━━━━━━━━━━━━━━━━━\u001b[0m\u001b[37m\u001b[0m \u001b[1m459s\u001b[0m 308ms/step - loss: 1.7991\n",
            "Epoch 7/15\n",
            "\u001b[1m1490/1490\u001b[0m \u001b[32m━━━━━━━━━━━━━━━━━━━━\u001b[0m\u001b[37m\u001b[0m \u001b[1m0s\u001b[0m 255ms/step - loss: 1.7518\n",
            " mean perplexity: 5.248198986053467 \n",
            "\n",
            "Se guardó el nuevo modelo en model_LSTM_best.keras\n",
            "\u001b[1m1490/1490\u001b[0m \u001b[32m━━━━━━━━━━━━━━━━━━━━\u001b[0m\u001b[37m\u001b[0m \u001b[1m457s\u001b[0m 307ms/step - loss: 1.7518\n",
            "Epoch 8/15\n",
            "\u001b[1m1490/1490\u001b[0m \u001b[32m━━━━━━━━━━━━━━━━━━━━\u001b[0m\u001b[37m\u001b[0m \u001b[1m0s\u001b[0m 252ms/step - loss: 1.7127\n",
            " mean perplexity: 5.064920902252197 \n",
            "\n",
            "Se guardó el nuevo modelo en model_LSTM_best.keras\n",
            "\u001b[1m1490/1490\u001b[0m \u001b[32m━━━━━━━━━━━━━━━━━━━━\u001b[0m\u001b[37m\u001b[0m \u001b[1m458s\u001b[0m 307ms/step - loss: 1.7126\n",
            "Epoch 9/15\n",
            "\u001b[1m1490/1490\u001b[0m \u001b[32m━━━━━━━━━━━━━━━━━━━━\u001b[0m\u001b[37m\u001b[0m \u001b[1m0s\u001b[0m 256ms/step - loss: 1.6804\n",
            " mean perplexity: 4.936720371246338 \n",
            "\n",
            "Se guardó el nuevo modelo en model_LSTM_best.keras\n",
            "\u001b[1m1490/1490\u001b[0m \u001b[32m━━━━━━━━━━━━━━━━━━━━\u001b[0m\u001b[37m\u001b[0m \u001b[1m501s\u001b[0m 307ms/step - loss: 1.6804\n",
            "Epoch 10/15\n",
            "\u001b[1m1490/1490\u001b[0m \u001b[32m━━━━━━━━━━━━━━━━━━━━\u001b[0m\u001b[37m\u001b[0m \u001b[1m0s\u001b[0m 252ms/step - loss: 1.6539\n",
            " mean perplexity: 4.825989723205566 \n",
            "\n",
            "Se guardó el nuevo modelo en model_LSTM_best.keras\n",
            "\u001b[1m1490/1490\u001b[0m \u001b[32m━━━━━━━━━━━━━━━━━━━━\u001b[0m\u001b[37m\u001b[0m \u001b[1m452s\u001b[0m 303ms/step - loss: 1.6539\n",
            "Epoch 11/15\n",
            "\u001b[1m1490/1490\u001b[0m \u001b[32m━━━━━━━━━━━━━━━━━━━━\u001b[0m\u001b[37m\u001b[0m \u001b[1m0s\u001b[0m 253ms/step - loss: 1.6314\n",
            " mean perplexity: 4.729282379150391 \n",
            "\n",
            "Se guardó el nuevo modelo en model_LSTM_best.keras\n",
            "\u001b[1m1490/1490\u001b[0m \u001b[32m━━━━━━━━━━━━━━━━━━━━\u001b[0m\u001b[37m\u001b[0m \u001b[1m454s\u001b[0m 304ms/step - loss: 1.6314\n",
            "Epoch 12/15\n",
            "\u001b[1m1490/1490\u001b[0m \u001b[32m━━━━━━━━━━━━━━━━━━━━\u001b[0m\u001b[37m\u001b[0m \u001b[1m0s\u001b[0m 252ms/step - loss: 1.6121\n",
            " mean perplexity: 4.66074800491333 \n",
            "\n",
            "Se guardó el nuevo modelo en model_LSTM_best.keras\n",
            "\u001b[1m1490/1490\u001b[0m \u001b[32m━━━━━━━━━━━━━━━━━━━━\u001b[0m\u001b[37m\u001b[0m \u001b[1m452s\u001b[0m 304ms/step - loss: 1.6121\n",
            "Epoch 13/15\n",
            "\u001b[1m1490/1490\u001b[0m \u001b[32m━━━━━━━━━━━━━━━━━━━━\u001b[0m\u001b[37m\u001b[0m \u001b[1m0s\u001b[0m 252ms/step - loss: 1.5956\n",
            " mean perplexity: 4.595290660858154 \n",
            "\n",
            "Se guardó el nuevo modelo en model_LSTM_best.keras\n",
            "\u001b[1m1490/1490\u001b[0m \u001b[32m━━━━━━━━━━━━━━━━━━━━\u001b[0m\u001b[37m\u001b[0m \u001b[1m452s\u001b[0m 303ms/step - loss: 1.5956\n",
            "Epoch 14/15\n",
            "\u001b[1m1490/1490\u001b[0m \u001b[32m━━━━━━━━━━━━━━━━━━━━\u001b[0m\u001b[37m\u001b[0m \u001b[1m0s\u001b[0m 251ms/step - loss: 1.5814\n",
            " mean perplexity: 4.541773796081543 \n",
            "\n",
            "Se guardó el nuevo modelo en model_LSTM_best.keras\n",
            "\u001b[1m1490/1490\u001b[0m \u001b[32m━━━━━━━━━━━━━━━━━━━━\u001b[0m\u001b[37m\u001b[0m \u001b[1m500s\u001b[0m 302ms/step - loss: 1.5814\n",
            "Epoch 15/15\n",
            "\u001b[1m1490/1490\u001b[0m \u001b[32m━━━━━━━━━━━━━━━━━━━━\u001b[0m\u001b[37m\u001b[0m \u001b[1m0s\u001b[0m 253ms/step - loss: 1.5688\n",
            " mean perplexity: 4.520737648010254 \n",
            "\n",
            "Se guardó el nuevo modelo en model_LSTM_best.keras\n",
            "\u001b[1m1490/1490\u001b[0m \u001b[32m━━━━━━━━━━━━━━━━━━━━\u001b[0m\u001b[37m\u001b[0m \u001b[1m454s\u001b[0m 305ms/step - loss: 1.5688\n",
            "Tiempo de entrenamiento (LSTM): 116.46 minutos\n",
            "Fin entrenamiento LSTM. Mejor perplejidad encontrada: 4.520737648010254\n",
            "\n",
            "\n",
            "==============================================\n",
            "Entrenando arquitectura: GRU\n",
            "==============================================\n",
            "\n"
          ]
        },
        {
          "data": {
            "text/html": [
              "<pre style=\"white-space:pre;overflow-x:auto;line-height:normal;font-family:Menlo,'DejaVu Sans Mono',consolas,'Courier New',monospace\"><span style=\"font-weight: bold\">Model: \"sequential_2\"</span>\n",
              "</pre>\n"
            ],
            "text/plain": [
              "\u001b[1mModel: \"sequential_2\"\u001b[0m\n"
            ]
          },
          "metadata": {},
          "output_type": "display_data"
        },
        {
          "data": {
            "text/html": [
              "<pre style=\"white-space:pre;overflow-x:auto;line-height:normal;font-family:Menlo,'DejaVu Sans Mono',consolas,'Courier New',monospace\">┏━━━━━━━━━━━━━━━━━━━━━━━━━━━━━━━━━┳━━━━━━━━━━━━━━━━━━━━━━━━┳━━━━━━━━━━━━━━━┓\n",
              "┃<span style=\"font-weight: bold\"> Layer (type)                    </span>┃<span style=\"font-weight: bold\"> Output Shape           </span>┃<span style=\"font-weight: bold\">       Param # </span>┃\n",
              "┡━━━━━━━━━━━━━━━━━━━━━━━━━━━━━━━━━╇━━━━━━━━━━━━━━━━━━━━━━━━╇━━━━━━━━━━━━━━━┩\n",
              "│ time_distributed_2              │ (<span style=\"color: #00d7ff; text-decoration-color: #00d7ff\">None</span>, <span style=\"color: #00af00; text-decoration-color: #00af00\">100</span>, <span style=\"color: #00af00; text-decoration-color: #00af00\">74</span>)        │             <span style=\"color: #00af00; text-decoration-color: #00af00\">0</span> │\n",
              "│ (<span style=\"color: #0087ff; text-decoration-color: #0087ff\">TimeDistributed</span>)               │                        │               │\n",
              "├─────────────────────────────────┼────────────────────────┼───────────────┤\n",
              "│ gru (<span style=\"color: #0087ff; text-decoration-color: #0087ff\">GRU</span>)                       │ (<span style=\"color: #00d7ff; text-decoration-color: #00d7ff\">None</span>, <span style=\"color: #00af00; text-decoration-color: #00af00\">100</span>, <span style=\"color: #00af00; text-decoration-color: #00af00\">200</span>)       │       <span style=\"color: #00af00; text-decoration-color: #00af00\">165,600</span> │\n",
              "├─────────────────────────────────┼────────────────────────┼───────────────┤\n",
              "│ dense_2 (<span style=\"color: #0087ff; text-decoration-color: #0087ff\">Dense</span>)                 │ (<span style=\"color: #00d7ff; text-decoration-color: #00d7ff\">None</span>, <span style=\"color: #00af00; text-decoration-color: #00af00\">100</span>, <span style=\"color: #00af00; text-decoration-color: #00af00\">74</span>)        │        <span style=\"color: #00af00; text-decoration-color: #00af00\">14,874</span> │\n",
              "└─────────────────────────────────┴────────────────────────┴───────────────┘\n",
              "</pre>\n"
            ],
            "text/plain": [
              "┏━━━━━━━━━━━━━━━━━━━━━━━━━━━━━━━━━┳━━━━━━━━━━━━━━━━━━━━━━━━┳━━━━━━━━━━━━━━━┓\n",
              "┃\u001b[1m \u001b[0m\u001b[1mLayer (type)                   \u001b[0m\u001b[1m \u001b[0m┃\u001b[1m \u001b[0m\u001b[1mOutput Shape          \u001b[0m\u001b[1m \u001b[0m┃\u001b[1m \u001b[0m\u001b[1m      Param #\u001b[0m\u001b[1m \u001b[0m┃\n",
              "┡━━━━━━━━━━━━━━━━━━━━━━━━━━━━━━━━━╇━━━━━━━━━━━━━━━━━━━━━━━━╇━━━━━━━━━━━━━━━┩\n",
              "│ time_distributed_2              │ (\u001b[38;5;45mNone\u001b[0m, \u001b[38;5;34m100\u001b[0m, \u001b[38;5;34m74\u001b[0m)        │             \u001b[38;5;34m0\u001b[0m │\n",
              "│ (\u001b[38;5;33mTimeDistributed\u001b[0m)               │                        │               │\n",
              "├─────────────────────────────────┼────────────────────────┼───────────────┤\n",
              "│ gru (\u001b[38;5;33mGRU\u001b[0m)                       │ (\u001b[38;5;45mNone\u001b[0m, \u001b[38;5;34m100\u001b[0m, \u001b[38;5;34m200\u001b[0m)       │       \u001b[38;5;34m165,600\u001b[0m │\n",
              "├─────────────────────────────────┼────────────────────────┼───────────────┤\n",
              "│ dense_2 (\u001b[38;5;33mDense\u001b[0m)                 │ (\u001b[38;5;45mNone\u001b[0m, \u001b[38;5;34m100\u001b[0m, \u001b[38;5;34m74\u001b[0m)        │        \u001b[38;5;34m14,874\u001b[0m │\n",
              "└─────────────────────────────────┴────────────────────────┴───────────────┘\n"
            ]
          },
          "metadata": {},
          "output_type": "display_data"
        },
        {
          "data": {
            "text/html": [
              "<pre style=\"white-space:pre;overflow-x:auto;line-height:normal;font-family:Menlo,'DejaVu Sans Mono',consolas,'Courier New',monospace\"><span style=\"font-weight: bold\"> Total params: </span><span style=\"color: #00af00; text-decoration-color: #00af00\">180,474</span> (704.98 KB)\n",
              "</pre>\n"
            ],
            "text/plain": [
              "\u001b[1m Total params: \u001b[0m\u001b[38;5;34m180,474\u001b[0m (704.98 KB)\n"
            ]
          },
          "metadata": {},
          "output_type": "display_data"
        },
        {
          "data": {
            "text/html": [
              "<pre style=\"white-space:pre;overflow-x:auto;line-height:normal;font-family:Menlo,'DejaVu Sans Mono',consolas,'Courier New',monospace\"><span style=\"font-weight: bold\"> Trainable params: </span><span style=\"color: #00af00; text-decoration-color: #00af00\">180,474</span> (704.98 KB)\n",
              "</pre>\n"
            ],
            "text/plain": [
              "\u001b[1m Trainable params: \u001b[0m\u001b[38;5;34m180,474\u001b[0m (704.98 KB)\n"
            ]
          },
          "metadata": {},
          "output_type": "display_data"
        },
        {
          "data": {
            "text/html": [
              "<pre style=\"white-space:pre;overflow-x:auto;line-height:normal;font-family:Menlo,'DejaVu Sans Mono',consolas,'Courier New',monospace\"><span style=\"font-weight: bold\"> Non-trainable params: </span><span style=\"color: #00af00; text-decoration-color: #00af00\">0</span> (0.00 B)\n",
              "</pre>\n"
            ],
            "text/plain": [
              "\u001b[1m Non-trainable params: \u001b[0m\u001b[38;5;34m0\u001b[0m (0.00 B)\n"
            ]
          },
          "metadata": {},
          "output_type": "display_data"
        },
        {
          "name": "stdout",
          "output_type": "stream",
          "text": [
            "Epoch 1/15\n",
            "\u001b[1m1490/1490\u001b[0m \u001b[32m━━━━━━━━━━━━━━━━━━━━\u001b[0m\u001b[37m\u001b[0m \u001b[1m0s\u001b[0m 239ms/step - loss: 2.4930\n",
            " mean perplexity: 6.6995062828063965 \n",
            "\n",
            "Se guardó el nuevo modelo en model_GRU_best.keras\n",
            "\u001b[1m1490/1490\u001b[0m \u001b[32m━━━━━━━━━━━━━━━━━━━━\u001b[0m\u001b[37m\u001b[0m \u001b[1m504s\u001b[0m 335ms/step - loss: 2.4928\n",
            "Epoch 2/15\n",
            "\u001b[1m1490/1490\u001b[0m \u001b[32m━━━━━━━━━━━━━━━━━━━━\u001b[0m\u001b[37m\u001b[0m \u001b[1m0s\u001b[0m 243ms/step - loss: 1.8941\n",
            " mean perplexity: 5.270864963531494 \n",
            "\n",
            "Se guardó el nuevo modelo en model_GRU_best.keras\n",
            "\u001b[1m1490/1490\u001b[0m \u001b[32m━━━━━━━━━━━━━━━━━━━━\u001b[0m\u001b[37m\u001b[0m \u001b[1m443s\u001b[0m 297ms/step - loss: 1.8940\n",
            "Epoch 3/15\n",
            "\u001b[1m1490/1490\u001b[0m \u001b[32m━━━━━━━━━━━━━━━━━━━━\u001b[0m\u001b[37m\u001b[0m \u001b[1m0s\u001b[0m 242ms/step - loss: 1.6938\n",
            " mean perplexity: 4.774665832519531 \n",
            "\n",
            "Se guardó el nuevo modelo en model_GRU_best.keras\n",
            "\u001b[1m1490/1490\u001b[0m \u001b[32m━━━━━━━━━━━━━━━━━━━━\u001b[0m\u001b[37m\u001b[0m \u001b[1m444s\u001b[0m 298ms/step - loss: 1.6937\n",
            "Epoch 4/15\n",
            "\u001b[1m1490/1490\u001b[0m \u001b[32m━━━━━━━━━━━━━━━━━━━━\u001b[0m\u001b[37m\u001b[0m \u001b[1m0s\u001b[0m 242ms/step - loss: 1.5882\n",
            " mean perplexity: 4.493988037109375 \n",
            "\n",
            "Se guardó el nuevo modelo en model_GRU_best.keras\n",
            "\u001b[1m1490/1490\u001b[0m \u001b[32m━━━━━━━━━━━━━━━━━━━━\u001b[0m\u001b[37m\u001b[0m \u001b[1m442s\u001b[0m 296ms/step - loss: 1.5882\n",
            "Epoch 5/15\n",
            "\u001b[1m1490/1490\u001b[0m \u001b[32m━━━━━━━━━━━━━━━━━━━━\u001b[0m\u001b[37m\u001b[0m \u001b[1m0s\u001b[0m 246ms/step - loss: 1.5263\n",
            " mean perplexity: 4.361446380615234 \n",
            "\n",
            "Se guardó el nuevo modelo en model_GRU_best.keras\n",
            "\u001b[1m1490/1490\u001b[0m \u001b[32m━━━━━━━━━━━━━━━━━━━━\u001b[0m\u001b[37m\u001b[0m \u001b[1m449s\u001b[0m 301ms/step - loss: 1.5263\n",
            "Epoch 6/15\n",
            "\u001b[1m1490/1490\u001b[0m \u001b[32m━━━━━━━━━━━━━━━━━━━━\u001b[0m\u001b[37m\u001b[0m \u001b[1m0s\u001b[0m 245ms/step - loss: 1.4853\n",
            " mean perplexity: 4.275167942047119 \n",
            "\n",
            "Se guardó el nuevo modelo en model_GRU_best.keras\n",
            "\u001b[1m1490/1490\u001b[0m \u001b[32m━━━━━━━━━━━━━━━━━━━━\u001b[0m\u001b[37m\u001b[0m \u001b[1m447s\u001b[0m 300ms/step - loss: 1.4853\n",
            "Epoch 7/15\n",
            "\u001b[1m1490/1490\u001b[0m \u001b[32m━━━━━━━━━━━━━━━━━━━━\u001b[0m\u001b[37m\u001b[0m \u001b[1m0s\u001b[0m 243ms/step - loss: 1.4560\n",
            " mean perplexity: 4.212463855743408 \n",
            "\n",
            "Se guardó el nuevo modelo en model_GRU_best.keras\n",
            "\u001b[1m1490/1490\u001b[0m \u001b[32m━━━━━━━━━━━━━━━━━━━━\u001b[0m\u001b[37m\u001b[0m \u001b[1m444s\u001b[0m 298ms/step - loss: 1.4560\n",
            "Epoch 8/15\n",
            "\u001b[1m1490/1490\u001b[0m \u001b[32m━━━━━━━━━━━━━━━━━━━━\u001b[0m\u001b[37m\u001b[0m \u001b[1m0s\u001b[0m 247ms/step - loss: 1.4342\n",
            " mean perplexity: 4.178525447845459 \n",
            "\n",
            "Se guardó el nuevo modelo en model_GRU_best.keras\n",
            "\u001b[1m1490/1490\u001b[0m \u001b[32m━━━━━━━━━━━━━━━━━━━━\u001b[0m\u001b[37m\u001b[0m \u001b[1m450s\u001b[0m 302ms/step - loss: 1.4342\n",
            "Epoch 9/15\n",
            "\u001b[1m1490/1490\u001b[0m \u001b[32m━━━━━━━━━━━━━━━━━━━━\u001b[0m\u001b[37m\u001b[0m \u001b[1m0s\u001b[0m 247ms/step - loss: 1.4169\n",
            " mean perplexity: 4.1468939781188965 \n",
            "\n",
            "Se guardó el nuevo modelo en model_GRU_best.keras\n",
            "\u001b[1m1490/1490\u001b[0m \u001b[32m━━━━━━━━━━━━━━━━━━━━\u001b[0m\u001b[37m\u001b[0m \u001b[1m502s\u001b[0m 302ms/step - loss: 1.4169\n",
            "Epoch 10/15\n",
            "\u001b[1m1490/1490\u001b[0m \u001b[32m━━━━━━━━━━━━━━━━━━━━\u001b[0m\u001b[37m\u001b[0m \u001b[1m0s\u001b[0m 245ms/step - loss: 1.4032\n",
            " mean perplexity: 4.120044231414795 \n",
            "\n",
            "Se guardó el nuevo modelo en model_GRU_best.keras\n",
            "\u001b[1m1490/1490\u001b[0m \u001b[32m━━━━━━━━━━━━━━━━━━━━\u001b[0m\u001b[37m\u001b[0m \u001b[1m447s\u001b[0m 300ms/step - loss: 1.4032\n",
            "Epoch 11/15\n",
            "\u001b[1m1490/1490\u001b[0m \u001b[32m━━━━━━━━━━━━━━━━━━━━\u001b[0m\u001b[37m\u001b[0m \u001b[1m0s\u001b[0m 245ms/step - loss: 1.3915\n",
            " mean perplexity: 4.104221343994141 \n",
            "\n",
            "Se guardó el nuevo modelo en model_GRU_best.keras\n",
            "\u001b[1m1490/1490\u001b[0m \u001b[32m━━━━━━━━━━━━━━━━━━━━\u001b[0m\u001b[37m\u001b[0m \u001b[1m445s\u001b[0m 299ms/step - loss: 1.3915\n",
            "Epoch 12/15\n",
            "\u001b[1m1490/1490\u001b[0m \u001b[32m━━━━━━━━━━━━━━━━━━━━\u001b[0m\u001b[37m\u001b[0m \u001b[1m0s\u001b[0m 243ms/step - loss: 1.3816\n",
            " mean perplexity: 4.0890278816223145 \n",
            "\n",
            "Se guardó el nuevo modelo en model_GRU_best.keras\n",
            "\u001b[1m1490/1490\u001b[0m \u001b[32m━━━━━━━━━━━━━━━━━━━━\u001b[0m\u001b[37m\u001b[0m \u001b[1m444s\u001b[0m 298ms/step - loss: 1.3816\n",
            "Epoch 13/15\n",
            "\u001b[1m1490/1490\u001b[0m \u001b[32m━━━━━━━━━━━━━━━━━━━━\u001b[0m\u001b[37m\u001b[0m \u001b[1m0s\u001b[0m 244ms/step - loss: 1.3731\n",
            " mean perplexity: 4.075316429138184 \n",
            "\n",
            "Se guardó el nuevo modelo en model_GRU_best.keras\n",
            "\u001b[1m1490/1490\u001b[0m \u001b[32m━━━━━━━━━━━━━━━━━━━━\u001b[0m\u001b[37m\u001b[0m \u001b[1m444s\u001b[0m 298ms/step - loss: 1.3731\n",
            "Epoch 14/15\n",
            "\u001b[1m1490/1490\u001b[0m \u001b[32m━━━━━━━━━━━━━━━━━━━━\u001b[0m\u001b[37m\u001b[0m \u001b[1m0s\u001b[0m 244ms/step - loss: 1.3662\n",
            " mean perplexity: 4.062519550323486 \n",
            "\n",
            "Se guardó el nuevo modelo en model_GRU_best.keras\n",
            "\u001b[1m1490/1490\u001b[0m \u001b[32m━━━━━━━━━━━━━━━━━━━━\u001b[0m\u001b[37m\u001b[0m \u001b[1m444s\u001b[0m 298ms/step - loss: 1.3662\n",
            "Epoch 15/15\n",
            "\u001b[1m1490/1490\u001b[0m \u001b[32m━━━━━━━━━━━━━━━━━━━━\u001b[0m\u001b[37m\u001b[0m \u001b[1m0s\u001b[0m 245ms/step - loss: 1.3592\n",
            " mean perplexity: 4.053084850311279 \n",
            "\n",
            "Se guardó el nuevo modelo en model_GRU_best.keras\n",
            "\u001b[1m1490/1490\u001b[0m \u001b[32m━━━━━━━━━━━━━━━━━━━━\u001b[0m\u001b[37m\u001b[0m \u001b[1m447s\u001b[0m 300ms/step - loss: 1.3592\n",
            "Tiempo de entrenamiento (GRU): 113.27 minutos\n",
            "Fin entrenamiento GRU. Mejor perplejidad encontrada: 4.053084850311279\n"
          ]
        }
      ],
      "source": [
        "results = {}\n",
        "histories = {}\n",
        "\n",
        "# convert val sequences to list of lists (integers)\n",
        "val_sequences_for_callback = [list(seq) for seq in tokenized_sentences_val]\n",
        "\n",
        "for arch in models_to_test:\n",
        "    print(\"\\n\\n==============================================\")\n",
        "    print(\"Entrenando arquitectura:\", arch)\n",
        "    print(\"==============================================\\n\")\n",
        "\n",
        "    history_ppl = []\n",
        "    # prefijo de guardado único por arquitectura\n",
        "    save_prefix = f\"model_{arch}\"\n",
        "    callback = PplCallback(val_sequences_for_callback, max_context_size, char2idx, idx2char, history_ppl, patience=patience, save_path_prefix=save_prefix)\n",
        "\n",
        "    # probar con one-hot\n",
        "    model = build_model(arch=arch, use_embedding=False, rnn_units=200, input_shape=(max_context_size,1))\n",
        "    model.summary()\n",
        "\n",
        "    # fit (X,y) -- X shape: (N, timesteps,1), y shape: (N, timesteps,1)\n",
        "    st = time.time()\n",
        "    hist = model.fit(X, y, epochs=max_epochs, callbacks=[callback], batch_size=batch_size, verbose=1)\n",
        "    et = time.time()\n",
        "    elapsed = et - st\n",
        "    print(f\"Tiempo de entrenamiento ({arch}): {elapsed/60:.2f} minutos\")\n",
        "\n",
        "    # almacenar métricas\n",
        "    results[arch] = {\n",
        "        \"best_val_ppl\": callback.min_score,\n",
        "        \"history_ppl\": history_ppl,\n",
        "        \"training_time_min\": elapsed/60\n",
        "    }\n",
        "    histories[arch] = hist\n",
        "\n",
        "    print(f\"Fin entrenamiento {arch}. Mejor perplejidad encontrada: {callback.min_score}\")\n"
      ]
    },
    {
      "cell_type": "markdown",
      "metadata": {
        "id": "PfdAKza3BtF6"
      },
      "source": [
        "### **8) Seleccionar mejor modelo (menor perplejidad)**"
      ]
    },
    {
      "cell_type": "code",
      "execution_count": 10,
      "metadata": {
        "colab": {
          "base_uri": "https://localhost:8080/"
        },
        "id": "PdantJhCBxdy",
        "outputId": "5748003a-9da7-4d50-8add-073cc03d5aeb"
      },
      "outputs": [
        {
          "name": "stdout",
          "output_type": "stream",
          "text": [
            "SimpleRNN -> best_val_ppl: 4.564990997314453\n",
            "LSTM -> best_val_ppl: 4.520737648010254\n",
            "GRU -> best_val_ppl: 4.053084850311279\n",
            "\n",
            "Mejor arquitectura según perplejidad: GRU con PPL = 4.053085\n",
            "Mejor modelo guardado en: model_GRU_best.keras\n",
            "Copia final guardada en: best_model_final.keras\n"
          ]
        }
      ],
      "source": [
        "best_arch = None\n",
        "best_ppl = np.inf\n",
        "for arch, info in results.items():\n",
        "    ppl = info[\"best_val_ppl\"]\n",
        "    print(f\"{arch} -> best_val_ppl: {ppl}\")\n",
        "    if ppl < best_ppl:\n",
        "        best_ppl = ppl\n",
        "        best_arch = arch\n",
        "\n",
        "print(\"\\nMejor arquitectura según perplejidad:\", best_arch, \"con PPL =\", best_ppl)\n",
        "best_model_path = f\"model_{best_arch}_best.keras\"\n",
        "print(\"Mejor modelo guardado en:\", best_model_path)\n",
        "\n",
        "# cargar el mejor modelo\n",
        "best_model = keras.models.load_model(best_model_path)\n",
        "\n",
        "# guardar copia final\n",
        "final_save_path = \"best_model_final.keras\"\n",
        "best_model.save(final_save_path)\n",
        "print(\"Copia final guardada en:\", final_save_path)"
      ]
    },
    {
      "cell_type": "markdown",
      "metadata": {
        "id": "95znQm8vCAa1"
      },
      "source": [
        "### **9) Funciones de generación**"
      ]
    },
    {
      "cell_type": "code",
      "execution_count": 11,
      "metadata": {
        "id": "AEF3xP-0CCsS"
      },
      "outputs": [],
      "source": [
        "def greedy_generate(model, seed_text, n_chars=200, max_length=max_context_size):\n",
        "    output_text = seed_text\n",
        "    for _ in range(n_chars):\n",
        "        encoded = [char2idx.get(ch, 0) for ch in output_text.lower()]\n",
        "        encoded = pad_sequences([encoded], maxlen=max_length, padding='pre')\n",
        "        encoded = encoded.reshape((1, max_length, 1))\n",
        "        preds = model.predict(encoded, verbose=0)[0, -1, :]\n",
        "        next_idx = np.argmax(preds)\n",
        "        output_text += idx2char[next_idx]\n",
        "    return output_text\n",
        "\n",
        "def sample_from_probs(probs, temperature=1.0):\n",
        "    preds = np.asarray(probs).astype('float64')\n",
        "    preds = np.log(preds + 1e-12) / temperature\n",
        "    exp_preds = np.exp(preds)\n",
        "    preds = exp_preds / np.sum(exp_preds)\n",
        "    probas = np.random.multinomial(1, preds, 1)\n",
        "    return np.argmax(probas)\n",
        "\n",
        "# Beam Search (determinístico / estocástico)\n",
        "from scipy.special import softmax\n",
        "\n",
        "def beam_search(model, input_text, num_beams=5, num_words=20, temp=1.0, mode='det'):\n",
        "    \"\"\"\n",
        "    mode: 'det' (deterministic beam) or 'sto' (stochastic beam with temperature)\n",
        "    Returns: decoded sequence (string) for best beam (or first)\n",
        "    \"\"\"\n",
        "    # codificar entrada\n",
        "    encoded = [char2idx.get(ch, 0) for ch in input_text.lower()]\n",
        "    encoded_padded = pad_sequences([encoded], maxlen=max_context_size, padding='pre').reshape(1, max_context_size, 1)\n",
        "\n",
        "    # predicción inicial\n",
        "    y_hat = model.predict(encoded_padded, verbose=0)[0, -1, :]\n",
        "    vocab_s = y_hat.shape[0]\n",
        "    # historial: guardar probabilidades y secuencias\n",
        "    history_log = [0.0] * num_beams\n",
        "    history_tokens = [encoded_padded[0].copy() for _ in range(num_beams)]  # each is (max_length,1)\n",
        "\n",
        "    # Primera selección: ampliar por vocabulario -> elegir las mejores opciones\n",
        "    if mode == 'det':\n",
        "        idxs = np.argsort(np.log(y_hat + 1e-12))[::-1][:num_beams]\n",
        "    else:\n",
        "        # Estocástico: muestrear con temperatura a partir de la distribución del vocabulario\n",
        "        probs = softmax(np.log(y_hat + 1e-12) / temp)\n",
        "        idxs = np.random.choice(np.arange(vocab_s), size=num_beams, replace=False, p=probs)\n",
        "\n",
        "    new_history_log = []\n",
        "    new_history_tokens = []\n",
        "    for i,k in enumerate(idxs):\n",
        "        new_history_log.append(np.log(y_hat[k] + 1e-12))\n",
        "        seq = history_tokens[0].copy()\n",
        "        # append new token at end (shift sliding window to include it)\n",
        "        seq = np.concatenate([seq[1:], np.array([[k]])], axis=0)\n",
        "        new_history_tokens.append(seq)\n",
        "    history_log = new_history_log\n",
        "    history_tokens = new_history_tokens\n",
        "\n",
        "    # iterative expansion\n",
        "    for _ in range(num_words-1):\n",
        "        # for each beam, predict next distribution\n",
        "        preds_list = []\n",
        "        for seq in history_tokens:\n",
        "            input_seq = np.array([seq])  # shape (1, max_length, 1)\n",
        "            y_hat = model.predict(input_seq, verbose=0)[0, -1, :]\n",
        "            preds_list.append(y_hat)\n",
        "\n",
        "        # build candidate pool (beam_size * vocab) with log-probs\n",
        "        all_candidates = []\n",
        "        for b_idx, pred in enumerate(preds_list):\n",
        "            for tok_idx in range(vocab_s):\n",
        "                lp = history_log[b_idx] + np.log(pred[tok_idx] + 1e-12)\n",
        "                all_candidates.append((lp, b_idx, tok_idx))\n",
        "\n",
        "        # política de selección\n",
        "        all_candidates.sort(key=lambda x: x[0], reverse=True)\n",
        "        if mode == 'det':\n",
        "            selected = all_candidates[:num_beams]\n",
        "        else:  # Selección estocástica basada en la temperatura aplicada a los logits\n",
        "            logits = np.array([cand[0] for cand in all_candidates])\n",
        "            # Normalizar y muestrear índices únicos (num_beams)\n",
        "            probs = softmax(logits / max(1e-6, temp))\n",
        "            selected_indices = np.random.choice(len(all_candidates), size=num_beams, replace=False, p=probs)\n",
        "            selected = [all_candidates[i] for i in selected_indices]\n",
        "\n",
        "        # Actualizar tokens y registros del historial\n",
        "        new_history_log = []\n",
        "        new_history_tokens = []\n",
        "        for lp, from_beam, tok in selected:\n",
        "            base_seq = history_tokens[from_beam]\n",
        "            new_seq = np.concatenate([base_seq[1:], np.array([[tok]])], axis=0)\n",
        "            new_history_log.append(lp)\n",
        "            new_history_tokens.append(new_seq)\n",
        "        history_log = new_history_log\n",
        "        history_tokens = new_history_tokens\n",
        "\n",
        "    # Seleccionar el mejor resultado (mayor probabilidad logarítmica)\n",
        "    best_idx = int(np.argmax(history_log))\n",
        "    best_seq = history_tokens[best_idx]  # shape (max_length,1)\n",
        "    # decode last (len(input)+num_words) tokens for readability\n",
        "    # we return the decoded string of the last part\n",
        "    decoded = ''.join([idx2char[int(i[0])] for i in best_seq])\n",
        "    return decoded\n"
      ]
    },
    {
      "cell_type": "markdown",
      "metadata": {
        "id": "0_mWej38DqFf"
      },
      "source": [
        "### **10) Pruebas de generación con el mejor modelo**"
      ]
    },
    {
      "cell_type": "code",
      "execution_count": 12,
      "metadata": {
        "colab": {
          "base_uri": "https://localhost:8080/"
        },
        "id": "gTNKOs6IDwKP",
        "outputId": "cf1b22bd-818c-40c7-e895-9a214588d2cd"
      },
      "outputs": [
        {
          "name": "stdout",
          "output_type": "stream",
          "text": [
            "\n",
            "--- Greedy generation (best model) ---\n",
            "habia una vez que esta cabeza con la mano de la cabeza de la cabeza de la cabeza de la cabeza de la cabeza de la cabeza de la cabeza \n",
            "\n",
            "--- Beam search deterministic (k=5) ---\n",
            "       habia una vez que nos hallábamos en el camino de la corteza terrestre, porque no habíamos de \n",
            "\n",
            "--- Beam search stochastic (k=5, temp=0.7) ---\n",
            "       habia una vez que habíamos de una parte de la tierra, y después de una especie de mi tío, y e\n",
            "\n",
            "--- Beam search stochastic (k=5, temp=1.2) ---\n",
            "       habia una vez que nos había en la temperatura de la tierra de la palabra, con un cráter del g\n"
          ]
        }
      ],
      "source": [
        "seed = \"habia una vez\"\n",
        "print(\"\\n--- Greedy generation (best model) ---\")\n",
        "print(greedy_generate(best_model, seed, n_chars=120))\n",
        "\n",
        "print(\"\\n--- Beam search deterministic (k=5) ---\")\n",
        "print(beam_search(best_model, seed, num_beams=5, num_words=80, temp=1.0, mode='det'))\n",
        "\n",
        "print(\"\\n--- Beam search stochastic (k=5, temp=0.7) ---\")\n",
        "print(beam_search(best_model, seed, num_beams=5, num_words=80, temp=0.7, mode='sto'))\n",
        "\n",
        "print(\"\\n--- Beam search stochastic (k=5, temp=1.2) ---\")\n",
        "print(beam_search(best_model, seed, num_beams=5, num_words=80, temp=1.2, mode='sto'))\n"
      ]
    },
    {
      "cell_type": "markdown",
      "metadata": {
        "id": "P0i7sCK6D3Ke"
      },
      "source": [
        "### **11) Guardar artefactos (tokenizers/dicts y resultados)**"
      ]
    },
    {
      "cell_type": "code",
      "execution_count": 13,
      "metadata": {
        "colab": {
          "base_uri": "https://localhost:8080/"
        },
        "id": "FSmu34VUD9Xm",
        "outputId": "33249ca1-8bb3-454b-aa6d-b76f60416bde"
      },
      "outputs": [
        {
          "name": "stdout",
          "output_type": "stream",
          "text": [
            "Guardado: char2idx.pkl, idx2char.pkl, training_results.pkl, best_model_final.keras\n"
          ]
        }
      ],
      "source": [
        "with open(\"char2idx.pkl\", \"wb\") as f:\n",
        "    pickle.dump(char2idx, f)\n",
        "with open(\"idx2char.pkl\", \"wb\") as f:\n",
        "    pickle.dump(idx2char, f)\n",
        "with open(\"training_results.pkl\", \"wb\") as f:\n",
        "    pickle.dump(results, f)\n",
        "\n",
        "print(\"Guardado: char2idx.pkl, idx2char.pkl, training_results.pkl, best_model_final.keras\")\n"
      ]
    },
    {
      "cell_type": "markdown",
      "metadata": {
        "id": "ThcKI0SeEAm8"
      },
      "source": [
        "### **12) Graficas de perplejidad por arquitectura**"
      ]
    },
    {
      "cell_type": "code",
      "execution_count": 14,
      "metadata": {
        "colab": {
          "base_uri": "https://localhost:8080/",
          "height": 488
        },
        "id": "HGEvH1DUEEqu",
        "outputId": "bb7dd7b0-61fd-4f70-fcc9-a8348e3f5ad1"
      },
      "outputs": [
        {
          "data": {
            "image/png": "[encoded data removed]",
            "text/plain": [
              "<Figure size 800x500 with 1 Axes>"
            ]
          },
          "metadata": {},
          "output_type": "display_data"
        }
      ],
      "source": [
        "plt.figure(figsize=(8,5))\n",
        "for arch, info in results.items():\n",
        "    hist_ppl = info['history_ppl']\n",
        "    if len(hist_ppl) > 0:\n",
        "        plt.plot(range(1, len(hist_ppl)+1), hist_ppl, label=f\"{arch} (best {info['best_val_ppl']:.3f})\")\n",
        "plt.xlabel(\"Epochs\")\n",
        "plt.ylabel(\"Validation Perplexity\")\n",
        "plt.legend()\n",
        "plt.title(\"Perplejidad en validación por arquitectura\")\n",
        "plt.show()"
      ]
    },
    {
      "cell_type": "markdown",
      "metadata": {
        "id": "P-_Gwctmu9zn"
      },
      "source": [
        "### **13) Pruebas con gradio**\n",
        "\n"
      ]
    },
    {
      "cell_type": "code",
      "execution_count": null,
      "metadata": {
        "colab": {
          "base_uri": "https://localhost:8080/",
          "height": 599
        },
        "id": "1rKvQAYbgDzh",
        "outputId": "da3357e3-5847-4208-cbc9-21ba07868b99"
      },
      "outputs": [
        {
          "name": "stderr",
          "output_type": "stream",
          "text": [
            "/home/jv/anaconda3/envs/Procesamiento_lenguaje_natural/lib/python3.11/site-packages/tqdm/auto.py:21: TqdmWarning: IProgress not found. Please update jupyter and ipywidgets. See https://ipywidgets.readthedocs.io/en/stable/user_install.html\n",
            "  from .autonotebook import tqdm as notebook_tqdm\n",
            "2025-10-01 22:25:34.801422: I external/local_xla/xla/tsl/cuda/cudart_stub.cc:31] Could not find cuda drivers on your machine, GPU will not be used.\n",
            "2025-10-01 22:25:35.594833: I tensorflow/core/platform/cpu_feature_guard.cc:210] This TensorFlow binary is optimized to use available CPU instructions in performance-critical operations.\n",
            "To enable the following instructions: AVX2 FMA, in other operations, rebuild TensorFlow with the appropriate compiler flags.\n",
            "2025-10-01 22:25:40.028887: I external/local_xla/xla/tsl/cuda/cudart_stub.cc:31] Could not find cuda drivers on your machine, GPU will not be used.\n"
          ]
        },
        {
          "name": "stdout",
          "output_type": "stream",
          "text": [
            "* Running on local URL:  http://127.0.0.1:7860\n",
            "* To create a public link, set `share=True` in `launch()`.\n"
          ]
        },
        {
          "data": {
            "text/html": [
              "<div><iframe src=\"http://127.0.0.1:7860/\" width=\"100%\" height=\"500\" allow=\"autoplay; camera; microphone; clipboard-read; clipboard-write;\" frameborder=\"0\" allowfullscreen></iframe></div>"
            ],
            "text/plain": [
              "<IPython.core.display.HTML object>"
            ]
          },
          "metadata": {},
          "output_type": "display_data"
        },
        {
          "data": {
            "text/plain": []
          },
          "execution_count": 1,
          "metadata": {},
          "output_type": "execute_result"
        }
      ],
      "source": [
        "#Descomentar en caso de solo ejecutar esta ultima celda para probar el modelo\n",
        "#!pip install -q gradio\n",
        "import gradio as gr\n",
        "import pickle, glob\n",
        "#import numpy as np\n",
        "#from tensorflow import keras\n",
        "#from tensorflow.keras.utils import pad_sequences\n",
        "\n",
        "# Cargar diccionarios\n",
        "with open(\"char2idx.pkl\", \"rb\") as f:\n",
        "    char2idx = pickle.load(f)\n",
        "with open(\"idx2char.pkl\", \"rb\") as f:\n",
        "    idx2char = pickle.load(f)\n",
        "\n",
        "max_context_size = 100\n",
        "\n",
        "# Función auxiliar para muestreo con temperatura\n",
        "def sample_from_probs(probs, temperature=1.0):\n",
        "    preds = np.asarray(probs).astype(\"float64\")\n",
        "    preds = np.log(preds + 1e-12) / (temperature if temperature > 0 else 1e-6)\n",
        "    exp_preds = np.exp(preds)\n",
        "    preds = exp_preds / np.sum(exp_preds)\n",
        "    return np.argmax(np.random.multinomial(1, preds, 1))\n",
        "\n",
        "# Funciones de generación\n",
        "def greedy_generate(model, seed, n_chars=200):\n",
        "    text = seed\n",
        "    for _ in range(n_chars):\n",
        "        encoded = [char2idx.get(ch, 0) for ch in text.lower()]\n",
        "        encoded = pad_sequences([encoded], maxlen=max_context_size, padding=\"pre\").reshape(1, max_context_size, 1)\n",
        "        preds = model.predict(encoded, verbose=0)[0, -1, :]\n",
        "        next_idx = np.argmax(preds)\n",
        "        text += idx2char[next_idx]\n",
        "    return text\n",
        "\n",
        "def beam_search(model, seed, num_beams=3, num_words=100, temp=1.0, mode=\"det\"):\n",
        "    sequences = [(seed, 0.0)]\n",
        "    for _ in range(num_words):\n",
        "        all_candidates = []\n",
        "        for seq, score in sequences:\n",
        "            encoded = [char2idx.get(ch, 0) for ch in seq.lower()]\n",
        "            encoded = pad_sequences([encoded], maxlen=max_context_size, padding=\"pre\").reshape(1, max_context_size, 1)\n",
        "            preds = model.predict(encoded, verbose=0)[0, -1, :]\n",
        "            if mode == \"det\":\n",
        "                top_indices = np.argsort(preds)[-num_beams:]\n",
        "            else:\n",
        "                top_indices = np.random.choice(len(preds), num_beams, p=preds/np.sum(preds))\n",
        "            for idx in top_indices:\n",
        "                candidate = (seq + idx2char[idx], score - np.log(preds[idx] + 1e-12))\n",
        "                all_candidates.append(candidate)\n",
        "        sequences = sorted(all_candidates, key=lambda tup: tup[1])[:num_beams]\n",
        "    return sequences[0][0]\n",
        "\n",
        "# Buscar modelos guardados en el directorio\n",
        "model_files = sorted(glob.glob(\"*.keras\"))\n",
        "if not model_files:\n",
        "    raise RuntimeError(\"No se encontraron archivos .keras en el directorio actual.\")\n",
        "\n",
        "_loaded_models = {}\n",
        "def load_model_cached(path):\n",
        "    if path in _loaded_models:\n",
        "        return _loaded_models[path]\n",
        "    _loaded_models[path] = keras.models.load_model(path)\n",
        "    return _loaded_models[path]\n",
        "\n",
        "# Wrapper para Gradio\n",
        "def gradio_wrapper(seed, n_chars, temperature, method, beam_size, model_file):\n",
        "    model = load_model_cached(model_file)\n",
        "    seed = str(seed) if seed else \"\"\n",
        "    if method == \"next_char\":\n",
        "        encoded = [char2idx.get(ch, 0) for ch in seed.lower()]\n",
        "        encoded = pad_sequences([encoded], maxlen=max_context_size, padding=\"pre\").reshape(1, max_context_size, 1)\n",
        "        preds = model.predict(encoded, verbose=0)[0, -1, :]\n",
        "        next_idx = sample_from_probs(preds, temperature)\n",
        "        return seed + idx2char[next_idx]\n",
        "    elif method == \"greedy\":\n",
        "        return greedy_generate(model, seed, n_chars=n_chars)\n",
        "    elif method == \"beam_det\":\n",
        "        return beam_search(model, seed, num_beams=beam_size, num_words=n_chars, temp=temperature, mode=\"det\")\n",
        "    elif method == \"beam_sto\":\n",
        "        return beam_search(model, seed, num_beams=beam_size, num_words=n_chars, temp=temperature, mode=\"sto\")\n",
        "    return \"Método no reconocido.\"\n",
        "\n",
        "# Interfaz Gradio\n",
        "iface = gr.Interface(\n",
        "    fn=gradio_wrapper,\n",
        "    inputs=[\n",
        "        gr.Textbox(label=\"Seed (texto inicial)\", placeholder=\"Ej: habia una vez\"),\n",
        "        gr.Slider(1, 100, step=1, value=100, label=\"n_chars\"),\n",
        "        gr.Slider(0, 2.0, step=0.1, value=1.0, label=\"Temperatura\"),\n",
        "        gr.Dropdown([\"next_char\", \"greedy\", \"beam_det\", \"beam_sto\"], value=\"greedy\", label=\"Método\"),\n",
        "        gr.Slider(0, 10, step=1, value=3, label=\"Beam size\"),\n",
        "        gr.Dropdown(model_files, value=model_files[0], label=\"Modelo a usar (.keras)\")\n",
        "    ],\n",
        "    outputs=\"text\",\n",
        "    title=\"Generador de texto con modelos guardados\",\n",
        "    description=\"Selecciona el modelo entrenado y prueba la generación de texto con diferentes estrategias.\"\n",
        ")\n",
        "\n",
        "iface.launch(share=False)\n"
      ]
    },
    {
      "cell_type": "markdown",
      "metadata": {},
      "source": [
        "### Resumen y analisis de los resultados:\n",
        "1. Se selecciono el libro \"Viaje al Centro de la Tierra de Julio Verne\" (423k caracteres) como el corpus de texto sobre el cual se entreno el modelo de lenguaje.\n",
        "\n",
        "2. Se aplico un pre-procesamiento adecuado: tokenización por caracteres, estructuracion del dataset, split en train/val.\n",
        "\n",
        "3. Se probaron 3 arquitecturas con unidades recurrentes (SimpleRNN, LSTM, GRU).\n",
        "\n",
        "- Todas las arquitecturas redujeron perplejidad de forma consistente, sin sobreajuste notable en solo 15 épocas.\n",
        "\n",
        "    - SimpleRNN → desempeño aceptable pero limitado.\n",
        "\n",
        "    - LSTM → más robusto, pero más lento en convergencia.\n",
        "\n",
        "    - GRU → mejor balance: menos parámetros que LSTM, menor tiempo y mejor perplejidad final.\n",
        "\n",
        "- Evaluación con perplejidad.\n",
        "\n",
        "    - SimpleRNN: mejor PPL ≈ 4.56\n",
        "\n",
        "    - LSTM: mejor PPL ≈ 4.52\n",
        "\n",
        "    - GRU: mejor PPL ≈ 4.05 → mejor arquitectura\n",
        "\n",
        "4. Se generaron nuevas secuencias a partir de secuencias de contexto con las estrategias de greedy search y beam search determístico y estocástico.\n",
        "\n",
        "- Se utilizo la interfaz interactiva con gradio para probar el mejor modelo entrenado:\n",
        "\n",
        "    - Predecir el proximo caracter (seleccionar como metodo next_char y temperatura 0.2 en la interfaz de gradio):\n",
        "         \n",
        "         Se pudo comprobar que el modelo hace la prediccion del siguiente caracter de forma correcta, por ejemplo: se le paso como texto \"tierr\" y predijo el siguiente caracter, dando como resultado la palabra \"tierra\".\n",
        "\n",
        "- Generacion de nuevas secuencias a partir de un texto inicial (probar la interfaz con gradio)\n",
        "\n",
        "    - Utilizando la estrategia Greedy (seleccionar como metodo greedy sin beam size ni temperatura):\n",
        "        \n",
        "        Las secuencia de texto que se generan terminan siendo deterministas, tiende a repetir ciertos tokens.\n",
        "        \n",
        "        Ejemplo: \n",
        "        \n",
        "        - texto inicial: \"habia una vez\"\n",
        "                 \n",
        "        - texto final:   \"habia una vez que esta cabeza con la mano de la cabeza de la cabeza de la cabeza de la cabeza de la cabeza de la\" \n",
        "\n",
        "    - Utilizando la estrategia Beam search determinístico (seleccionar como metodo beam_det con beam size de 5 y sin temperatura, para obtener mejores resultados): \n",
        "        \n",
        "        Las secuencias de texto que genera son mas coherentes pero algo redundantes.\n",
        "        \n",
        "        Ejemplo: \n",
        "        \n",
        "        - texto inicial: \"habia una vez\"\n",
        "                 \n",
        "        - texto final:   \"habia una vez que nos encontrábamos en el camino de la corteza terrestre, porque no habíamos llegado a la superfie\"\n",
        "\n",
        "    - Utilizando la estrategia Beam search estocástico + temperatura (seleccionar como metodo beam_sto con beam size 5 y temperatura de 0.8, variar la temperatura para ver distintos resultados): \n",
        "        \n",
        "        La secuencias de texto que genera presentan cierta variación y creatividad segun la temperatura que se aplique, aunque pierde coherencia con temperaturas altas.\n",
        "        \n",
        "        Ejemplo: \n",
        "        \n",
        "        - texto inicial: \"habia una vez\"\n",
        "        \n",
        "        - texto final:   \"habia una vez que no había descendido a la superficie de la tierra de la tierra de la tierra de la cabeza de la c\"\n",
        "\n"
      ]
    },
    {
      "cell_type": "markdown",
      "metadata": {},
      "source": []
    }
  ],
  "metadata": {
    "accelerator": "GPU",
    "colab": {
      "gpuType": "T4",
      "provenance": []
    },
    "kernelspec": {
      "display_name": "Procesamiento Lenguaje Natural",
      "language": "python",
      "name": "procesamiento_lenguaje_natural"
    },
    "language_info": {
      "codemirror_mode": {
        "name": "ipython",
        "version": 3
      },
      "file_extension": ".py",
      "mimetype": "text/x-python",
      "name": "python",
      "nbconvert_exporter": "python",
      "pygments_lexer": "ipython3",
      "version": "3.11.13"
    }
  },
  "nbformat": 4,
  "nbformat_minor": 0
}
