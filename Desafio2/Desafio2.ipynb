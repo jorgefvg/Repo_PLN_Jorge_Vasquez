{
 "cells": [
  {
   "cell_type": "markdown",
   "id": "369873b6",
   "metadata": {},
   "source": [
    "### Consigna del desafio 2\n",
    "Objetivo del desafio:\n",
    "\n",
    "El objetivo es utilizar documentos / corpus para crear embeddings de palabras basado en ese contexto. Se utilizará canciones de bandas para generar los embeddings, es decir, que los vectores tendrán la forma en función de como esa banda haya utilizado las palabras en sus canciones.\n",
    "\n",
    "**1**. Crear sus propios vectores con Gensim basado en lo visto en clase con con el mismo dataset o con otro diferente.\n",
    "\n",
    "**2**. Probar terminos de interés y explicar similitudes en el espacio de embeddings (sacar conclusiones entre palabras similitudes y diferencias).\n",
    "\n",
    "**3**. Graficarlos.\n",
    "\n",
    "**4**. Obtener conclusiones."
   ]
  },
  {
   "cell_type": "markdown",
   "id": "a1aeef35",
   "metadata": {},
   "source": [
    "### Import y configuraciones iniciales"
   ]
  },
  {
   "cell_type": "code",
   "execution_count": 3,
   "id": "92e52a1b",
   "metadata": {},
   "outputs": [],
   "source": [
    "import os\n",
    "import platform\n",
    "import multiprocessing\n",
    "import numpy as np\n",
    "import pandas as pd\n",
    "import matplotlib.pyplot as plt\n",
    "\n",
    "from gensim.models import Word2Vec\n",
    "from gensim.utils import simple_preprocess\n",
    "from gensim.models.callbacks import CallbackAny2Vec\n",
    "\n",
    "from sklearn.decomposition import IncrementalPCA\n",
    "from sklearn.manifold import TSNE\n",
    "\n",
    "# reproducibilidad\n",
    "RANDOM_SEED = 42\n",
    "np.random.seed(RANDOM_SEED)\n"
   ]
  },
  {
   "cell_type": "markdown",
   "id": "5dd12601",
   "metadata": {},
   "source": [
    "### 1) Cargando el dataset"
   ]
  },
  {
   "cell_type": "code",
   "execution_count": 4,
   "id": "6a37168c",
   "metadata": {},
   "outputs": [
    {
     "name": "stdout",
     "output_type": "stream",
     "text": [
      "--2025-09-14 18:27:10--  https://github.com/FIUBA-Posgrado-Inteligencia-Artificial/procesamiento_lenguaje_natural/raw/main/datasets/songs_dataset.zip\n",
      "Resolving github.com (github.com)... 140.82.113.4\n",
      "Connecting to github.com (github.com)|140.82.113.4|:443... connected.\n",
      "HTTP request sent, awaiting response... 302 Found\n",
      "Location: https://raw.githubusercontent.com/FIUBA-Posgrado-Inteligencia-Artificial/procesamiento_lenguaje_natural/main/datasets/songs_dataset.zip [following]\n",
      "--2025-09-14 18:27:11--  https://raw.githubusercontent.com/FIUBA-Posgrado-Inteligencia-Artificial/procesamiento_lenguaje_natural/main/datasets/songs_dataset.zip\n",
      "Resolving raw.githubusercontent.com (raw.githubusercontent.com)... 185.199.109.133, 185.199.108.133, 185.199.111.133, ...\n",
      "Connecting to raw.githubusercontent.com (raw.githubusercontent.com)|185.199.109.133|:443... connected.\n",
      "HTTP request sent, awaiting response... 200 OK\n",
      "Length: 2075036 (2.0M) [application/zip]\n",
      "Saving to: ‘songs_dataset.zip’\n",
      "\n",
      "songs_dataset.zip   100%[===================>]   1.98M  2.09MB/s    in 0.9s    \n",
      "\n",
      "2025-09-14 18:27:13 (2.09 MB/s) - ‘songs_dataset.zip’ saved [2075036/2075036]\n",
      "\n"
     ]
    },
    {
     "data": {
      "text/plain": [
       "['drake.txt',\n",
       " 'lil-wayne.txt',\n",
       " 'missy-elliott.txt',\n",
       " 'disney.txt',\n",
       " 'leonard-cohen.txt',\n",
       " 'bruce-springsteen.txt',\n",
       " 'Lil_Wayne.txt',\n",
       " 'notorious-big.txt',\n",
       " 'bieber.txt',\n",
       " 'blink-182.txt',\n",
       " 'kanye.txt',\n",
       " 'bjork.txt',\n",
       " 'radiohead.txt',\n",
       " 'nicki-minaj.txt',\n",
       " 'bob-marley.txt',\n",
       " 'bruno-mars.txt',\n",
       " 'bob-dylan.txt',\n",
       " 'beatles.txt',\n",
       " 'al-green.txt',\n",
       " 'alicia-keys.txt',\n",
       " 'amy-winehouse.txt',\n",
       " 'dj-khaled.txt',\n",
       " 'r-kelly.txt',\n",
       " 'eminem.txt',\n",
       " 'adele.txt',\n",
       " 'prince.txt',\n",
       " 'patti-smith.txt',\n",
       " 'paul-simon.txt',\n",
       " 'michael-jackson.txt',\n",
       " 'notorious_big.txt',\n",
       " 'britney-spears.txt',\n",
       " 'Kanye_West.txt',\n",
       " 'dickinson.txt',\n",
       " 'lin-manuel-miranda.txt',\n",
       " 'lorde.txt',\n",
       " 'lady-gaga.txt',\n",
       " 'jimi-hendrix.txt',\n",
       " 'nursery_rhymes.txt',\n",
       " 'nirvana.txt',\n",
       " 'johnny-cash.txt',\n",
       " 'kanye-west.txt',\n",
       " 'dr-seuss.txt',\n",
       " 'ludacris.txt',\n",
       " 'joni-mitchell.txt',\n",
       " 'rihanna.txt',\n",
       " 'cake.txt',\n",
       " 'janisjoplin.txt',\n",
       " 'dolly-parton.txt',\n",
       " 'nickelback.txt']"
      ]
     },
     "execution_count": 4,
     "metadata": {},
     "output_type": "execute_result"
    }
   ],
   "source": [
    "if os.access('./songs_dataset', os.F_OK) is False:\n",
    "    if os.access('songs_dataset.zip', os.F_OK) is False:\n",
    "        if platform.system() == 'Windows':\n",
    "            !curl https://raw.githubusercontent.com/FIUBA-Posgrado-Inteligencia-Artificial/procesamiento_lenguaje_natural/main/datasets/songs_dataset.zip -o songs_dataset.zip\n",
    "        else:\n",
    "            !wget https://github.com/FIUBA-Posgrado-Inteligencia-Artificial/procesamiento_lenguaje_natural/raw/main/datasets/songs_dataset.zip -O songs_dataset.zip\n",
    "    !unzip -q songs_dataset.zip\n",
    "else:\n",
    "    print(\"El dataset ya se encuentra descargado\")\n",
    "\n",
    "# Ver artistas disponibles\n",
    "os.listdir(\"./songs_dataset/\")\n"
   ]
  },
  {
   "cell_type": "code",
   "execution_count": 5,
   "id": "7be64bc7",
   "metadata": {},
   "outputs": [
    {
     "name": "stdout",
     "output_type": "stream",
     "text": [
      "Cantidad de documentos: 3715\n"
     ]
    },
    {
     "data": {
      "text/html": [
       "<div>\n",
       "<style scoped>\n",
       "    .dataframe tbody tr th:only-of-type {\n",
       "        vertical-align: middle;\n",
       "    }\n",
       "\n",
       "    .dataframe tbody tr th {\n",
       "        vertical-align: top;\n",
       "    }\n",
       "\n",
       "    .dataframe thead th {\n",
       "        text-align: right;\n",
       "    }\n",
       "</style>\n",
       "<table border=\"1\" class=\"dataframe\">\n",
       "  <thead>\n",
       "    <tr style=\"text-align: right;\">\n",
       "      <th></th>\n",
       "      <th>0</th>\n",
       "    </tr>\n",
       "  </thead>\n",
       "  <tbody>\n",
       "    <tr>\n",
       "      <th>0</th>\n",
       "      <td>What do you mean?</td>\n",
       "    </tr>\n",
       "    <tr>\n",
       "      <th>1</th>\n",
       "      <td>Oh, oh, oh</td>\n",
       "    </tr>\n",
       "    <tr>\n",
       "      <th>2</th>\n",
       "      <td>When you sometimes say yes</td>\n",
       "    </tr>\n",
       "    <tr>\n",
       "      <th>3</th>\n",
       "      <td>But you sometimes say no</td>\n",
       "    </tr>\n",
       "    <tr>\n",
       "      <th>4</th>\n",
       "      <td>What do you mean?</td>\n",
       "    </tr>\n",
       "  </tbody>\n",
       "</table>\n",
       "</div>"
      ],
      "text/plain": [
       "                            0\n",
       "0           What do you mean?\n",
       "1                  Oh, oh, oh\n",
       "2  When you sometimes say yes\n",
       "3    But you sometimes say no\n",
       "4           What do you mean?"
      ]
     },
     "execution_count": 5,
     "metadata": {},
     "output_type": "execute_result"
    }
   ],
   "source": [
    "# Cargar corpus de Justin Bieber\n",
    "df = pd.read_csv('songs_dataset/bieber.txt', sep='/n', header=None, engine='python')\n",
    "print(\"Cantidad de documentos:\", df.shape[0])\n",
    "df.head()"
   ]
  },
  {
   "cell_type": "markdown",
   "id": "70b0a2ee",
   "metadata": {},
   "source": [
    "### 2) Preprocesamiento"
   ]
  },
  {
   "cell_type": "code",
   "execution_count": 6,
   "id": "1ba24793",
   "metadata": {},
   "outputs": [
    {
     "data": {
      "text/plain": [
       "[['what', 'do', 'you', 'mean'],\n",
       " ['oh', 'oh', 'oh'],\n",
       " ['when', 'you', 'sometimes', 'say', 'yes']]"
      ]
     },
     "execution_count": 6,
     "metadata": {},
     "output_type": "execute_result"
    }
   ],
   "source": [
    "sentence_tokens = []\n",
    "for _, row in df.iterrows():\n",
    "    if isinstance(row[0], str):\n",
    "        tokens = simple_preprocess(row[0], deacc=True, min_len=2)\n",
    "        sentence_tokens.append(tokens)\n",
    "\n",
    "# ver ejemplo\n",
    "sentence_tokens[:3]"
   ]
  },
  {
   "cell_type": "markdown",
   "id": "1dc0c00f",
   "metadata": {},
   "source": [
    "### 2) Crear los vectores (word2vec)"
   ]
  },
  {
   "cell_type": "code",
   "execution_count": 7,
   "id": "8ac8edcd",
   "metadata": {},
   "outputs": [],
   "source": [
    "# Callback para ver pérdida por época\n",
    "class EpochLogger(CallbackAny2Vec):\n",
    "    def __init__(self):\n",
    "        self.epoch = 0\n",
    "        self.loss_previous_step = 0.0\n",
    "\n",
    "    def on_epoch_end(self, model):\n",
    "        loss = model.get_latest_training_loss()\n",
    "        if self.epoch == 0:\n",
    "            print(f'Loss after epoch {self.epoch}: {loss}')\n",
    "        else:\n",
    "            print(f'Loss after epoch {self.epoch}: {loss - self.loss_previous_step}')\n",
    "        self.epoch += 1\n",
    "        self.loss_previous_step = loss\n"
   ]
  },
  {
   "cell_type": "code",
   "execution_count": 8,
   "id": "5e922d9a",
   "metadata": {},
   "outputs": [
    {
     "name": "stdout",
     "output_type": "stream",
     "text": [
      "Cantidad de docs en el corpus: 3715\n",
      "Cantidad de palabras distintas en el vocabulario: 1145\n"
     ]
    }
   ],
   "source": [
    "# Crear modelo Word2Vec\n",
    "workers = max(1, multiprocessing.cpu_count() - 1)\n",
    "\n",
    "w2v_model = Word2Vec(min_count=2,       # palabra debe aparecer al menos 2 veces\n",
    "                     window=5,          # contexto\n",
    "                     vector_size=200,   # tamaño vector (100-300 típico)\n",
    "                     negative=10,       # negative sampling\n",
    "                     workers=workers,\n",
    "                     sg=1,              # 1=Skip-gram, 0=CBOW\n",
    "                     seed=RANDOM_SEED)\n",
    "\n",
    "w2v_model.build_vocab(sentence_tokens)\n",
    "\n",
    "print(\"Cantidad de docs en el corpus:\", w2v_model.corpus_count)\n",
    "print(\"Cantidad de palabras distintas en el vocabulario:\", len(w2v_model.wv.index_to_key))\n"
   ]
  },
  {
   "cell_type": "markdown",
   "id": "30a18f72",
   "metadata": {},
   "source": [
    "### 3) Entrenar embeddings"
   ]
  },
  {
   "cell_type": "code",
   "execution_count": 9,
   "id": "41974ca7",
   "metadata": {},
   "outputs": [
    {
     "name": "stdout",
     "output_type": "stream",
     "text": [
      "Loss after epoch 0: 97420.03125\n",
      "Loss after epoch 1: 72218.765625\n",
      "Loss after epoch 2: 69752.609375\n",
      "Loss after epoch 3: 67938.65625\n",
      "Loss after epoch 4: 66440.28125\n",
      "Loss after epoch 5: 48608.28125\n",
      "Loss after epoch 6: 61964.875\n",
      "Loss after epoch 7: 60465.5625\n",
      "Loss after epoch 8: 45984.375\n",
      "Loss after epoch 9: 57349.25\n",
      "Loss after epoch 10: 50188.375\n",
      "Loss after epoch 11: 54250.0625\n",
      "Loss after epoch 12: 54331.0\n",
      "Loss after epoch 13: 51820.3125\n",
      "Loss after epoch 14: 52691.6875\n",
      "Loss after epoch 15: 51853.0625\n",
      "Loss after epoch 16: 50519.875\n",
      "Loss after epoch 17: 49527.3125\n",
      "Loss after epoch 18: 48350.875\n",
      "Loss after epoch 19: 37912.375\n",
      "Loss after epoch 20: 46697.5\n",
      "Loss after epoch 21: 46491.5\n",
      "Loss after epoch 22: 40063.875\n",
      "Loss after epoch 23: 36988.25\n",
      "Loss after epoch 24: 46567.875\n",
      "Loss after epoch 25: 36158.0\n",
      "Loss after epoch 26: 35040.25\n",
      "Loss after epoch 27: 46760.75\n",
      "Loss after epoch 28: 46253.125\n",
      "Loss after epoch 29: 44505.25\n"
     ]
    },
    {
     "data": {
      "text/plain": [
       "(518213, 833490)"
      ]
     },
     "execution_count": 9,
     "metadata": {},
     "output_type": "execute_result"
    }
   ],
   "source": [
    "# Entrenar embeddings\n",
    "w2v_model.train(sentence_tokens,\n",
    "                total_examples=w2v_model.corpus_count,\n",
    "                epochs=30,\n",
    "                compute_loss=True,\n",
    "                callbacks=[EpochLogger()])\n"
   ]
  },
  {
   "cell_type": "markdown",
   "id": "c49571c4",
   "metadata": {},
   "source": [
    "### 4) Ensayar"
   ]
  },
  {
   "cell_type": "code",
   "execution_count": 10,
   "id": "da0b2249",
   "metadata": {},
   "outputs": [
    {
     "name": "stdout",
     "output_type": "stream",
     "text": [
      "\n",
      "Palabras más relacionadas con 'baby':\n",
      "   favorito        0.741\n",
      "   begging         0.672\n",
      "   teach           0.622\n",
      "   compared        0.614\n",
      "   tight           0.607\n",
      "   sayin           0.600\n",
      "   please          0.578\n",
      "   fix             0.571\n",
      "\n",
      "Palabras más relacionadas con 'love':\n",
      "   madly           0.665\n",
      "   choose          0.657\n",
      "   swallow         0.655\n",
      "   breathe         0.611\n",
      "   romance         0.598\n",
      "   afraid          0.598\n",
      "   pill            0.596\n",
      "   pulling         0.595\n",
      "\n",
      "Palabras más relacionadas con 'girl':\n",
      "   catching        0.670\n",
      "   heartbreaker    0.646\n",
      "   favorite        0.620\n",
      "   cray            0.618\n",
      "   ghetto          0.609\n",
      "   laugh           0.588\n",
      "   mhm             0.583\n",
      "   plus            0.568\n",
      "\n",
      "Palabras más relacionadas con 'heart':\n",
      "   whose           0.641\n",
      "   pieces          0.624\n",
      "   deceiving       0.623\n",
      "   breakin         0.617\n",
      "   pound           0.604\n",
      "   breaking        0.601\n",
      "   met             0.596\n",
      "   biggest         0.593\n",
      "\n",
      "Palabras más relacionadas con 'money':\n",
      "   lie             0.748\n",
      "   honestly        0.744\n",
      "   truth           0.723\n",
      "   lookin          0.721\n",
      "   forget          0.642\n",
      "   though          0.642\n",
      "   shot            0.632\n",
      "   chances         0.630\n",
      "\n",
      "Palabras más relacionadas con 'lonely':\n",
      "   saw             0.910\n",
      "   less            0.887\n",
      "   faces           0.779\n",
      "   coming          0.743\n",
      "   nights          0.738\n",
      "   makin           0.737\n",
      "   laugh           0.726\n",
      "   number          0.721\n"
     ]
    }
   ],
   "source": [
    "# Ensayos con palabras de interés\n",
    "terms = [\"baby\", \"love\", \"girl\", \"heart\", \"money\", \"lonely\"]\n",
    "\n",
    "for t in terms:\n",
    "    if t in w2v_model.wv.key_to_index:\n",
    "        print(f\"\\nPalabras más relacionadas con '{t}':\")\n",
    "        for neigh, score in w2v_model.wv.most_similar(positive=[t], topn=8):\n",
    "            print(f\"   {neigh:15} {score:.3f}\")\n",
    "    else:\n",
    "        print(f\"\\n'{t}' no está en el vocabulario.\")\n"
   ]
  },
  {
   "cell_type": "markdown",
   "id": "7b1b2bc4",
   "metadata": {},
   "source": [
    "Conclusiones preliminares:\n",
    "- El término \"baby\" se asocia con expresiones de súplica, ternura y afecto, lo cual refleja el uso típico en canciones de amor y pop juvenil donde \"baby\" aparece como apelativo romántico.\n",
    "\n",
    "- El termino de “love” captura emociones intensas y referencias directas al romance.\n",
    "\n",
    "- Para el termino \"girl\" se tiene un tono más juvenil y cotidiano, con asociaciones tanto afectivas (favorite, laugh) como negativas (heartbreaker).\n",
    "\n",
    "- El termino \"heart\" está fuertemente ligado al dolor emocional y la ruptura (pieces, breaking, deceiving). El embedding refleja la narrativa frecuente en baladas románticas sobre corazones rotos y desilusiones amorosas.\n",
    "\n",
    "- El termino “money” no se asocia tanto a riqueza material sino a cuestiones morales (lie, honestly, truth). Esto sugiere que en las letras de Bieber, el dinero aparece relacionado a la autenticidad y la sinceridad en las relaciones.\n",
    "\n",
    "- El termino “Lonely” aparece vinculado a situaciones nocturnas y sociales (nights, faces)."
   ]
  },
  {
   "cell_type": "markdown",
   "id": "2607c0bc",
   "metadata": {},
   "source": [
    "### 5) Visualizar agrupacion de vectores"
   ]
  },
  {
   "cell_type": "code",
   "execution_count": 13,
   "id": "35dd34f4",
   "metadata": {},
   "outputs": [],
   "source": [
    "def reduce_dimensions(model, num_dimensions = 2 ):\n",
    "     \n",
    "    vectors = np.asarray(model.wv.vectors)\n",
    "    labels = np.asarray(model.wv.index_to_key)  \n",
    "\n",
    "    tsne = TSNE(n_components=num_dimensions, random_state=0)\n",
    "    vectors = tsne.fit_transform(vectors)\n",
    "\n",
    "    return vectors, labels"
   ]
  },
  {
   "cell_type": "code",
   "execution_count": 15,
   "metadata": {},
   "outputs": [
    {
     "data": {
      "text/html": [
       "<html>\n",
       "<head><meta charset=\"utf-8\" /></head>\n",
       "<body>\n",
       "    <div>            <script src=\"https://cdnjs.cloudflare.com/ajax/libs/mathjax/2.7.5/MathJax.js?config=TeX-AMS-MML_SVG\"></script><script type=\"text/javascript\">if (window.MathJax && window.MathJax.Hub && window.MathJax.Hub.Config) {window.MathJax.Hub.Config({SVG: {font: \"STIX-Web\"}});}</script>                <script type=\"text/javascript\">window.PlotlyConfig = {MathJaxConfig: 'local'};</script>\n",
       "        <script charset=\"utf-8\" src=\"https://cdn.plot.ly/plotly-3.1.0.min.js\" integrity=\"sha256-Ei4740bWZhaUTQuD6q9yQlgVCMPBz6CZWhevDYPv93A=\" crossorigin=\"anonymous\"></script>                <div id=\"6732a1ed-745c-43c8-b179-4ec2fb5c344c\" class=\"plotly-graph-div\" style=\"height:525px; width:100%;\"></div>            <script type=\"text/javascript\">                window.PLOTLYENV=window.PLOTLYENV || {};                                if (document.getElementById(\"6732a1ed-745c-43c8-b179-4ec2fb5c344c\")) {                    Plotly.newPlot(                        \"6732a1ed-745c-43c8-b179-4ec2fb5c344c\",                        [{\"hovertemplate\":\"x=%{x}\\u003cbr\\u003ey=%{y}\\u003cbr\\u003etext=%{text}\\u003cextra\\u003e\\u003c\\u002fextra\\u003e\",\"legendgroup\":\"\",\"marker\":{\"color\":\"#636efa\",\"symbol\":\"circle\"},\"mode\":\"markers+text\",\"name\":\"\",\"orientation\":\"v\",\"showlegend\":false,\"text\":[\"you\",\"the\",\"me\",\"to\",\"oh\",\"it\",\"and\",\"that\",\"my\",\"love\",\"be\",\"don\",\"in\",\"baby\",\"your\",\"yeah\",\"we\",\"no\",\"one\",\"all\",\"girl\",\"like\",\"do\",\"can\",\"re\",\"what\",\"know\",\"is\",\"with\",\"for\",\"but\",\"so\",\"up\",\"on\",\"cause\",\"make\",\"got\",\"need\",\"if\",\"let\",\"right\",\"never\",\"now\",\"just\",\"when\",\"want\",\"ll\",\"go\",\"she\",\"of\",\"time\",\"wanna\",\"there\",\"heart\",\"say\",\"down\",\"this\",\"us\",\"only\",\"smile\",\"see\",\"get\",\"ain\",\"tell\",\"back\",\"out\",\"are\",\"was\",\"life\",\"whoa\",\"could\",\"gonna\",\"at\",\"have\",\"ooh\",\"should\",\"would\",\"nothing\",\"how\",\"hey\",\"world\",\"not\",\"gotta\",\"here\",\"as\",\"where\",\"give\",\"mean\",\"take\",\"mind\",\"way\",\"believe\",\"away\",\"from\",\"they\",\"without\",\"had\",\"around\",\"ve\",\"less\",\"will\",\"live\",\"better\",\"somebody\",\"show\",\"everything\",\"ever\",\"alright\",\"been\",\"crazy\",\"madly\",\"think\",\"more\",\"about\",\"mine\",\"lonely\",\"day\",\"her\",\"am\",\"eyes\",\"doing\",\"through\",\"thought\",\"always\",\"keep\",\"still\",\"every\",\"na\",\"than\",\"earth\",\"first\",\"coming\",\"long\",\"who\",\"said\",\"ya\",\"come\",\"or\",\"eh\",\"babe\",\"gone\",\"over\",\"nobody\",\"favorite\",\"body\",\"an\",\"too\",\"won\",\"lose\",\"by\",\"much\",\"feel\",\"shawty\",\"next\",\"our\",\"sometimes\",\"another\",\"didn\",\"leave\",\"unless\",\"look\",\"put\",\"fight\",\"tonight\",\"other\",\"then\",\"hard\",\"truth\",\"yourself\",\"together\",\"hand\",\"fall\",\"best\",\"ma\",\"really\",\"trust\",\"between\",\"sky\",\"fly\",\"hold\",\"thing\",\"were\",\"dream\",\"left\",\"home\",\"pray\",\"chorus\",\"alone\",\"call\",\"why\",\"good\",\"known\",\"stress\",\"sorry\",\"standing\",\"did\",\"maybe\",\"stay\",\"sleep\",\"nowhere\"],\"x\":{\"dtype\":\"f4\",\"bdata\":\"xA+2wH5hQcE8y6rAfM2kwXUo60FrIBvBHzpswB23W8ENuQBBFmT0wUf5bsFFUvfBxZXJwf2PzUEhrsVAVZLeQUnqjMBbNfU\\u002fZiYnwk70DMGCtsFBzQwJwkvzC8IGC8\\u002fAgd8VwZjgFsKcng3CmprnQdfxQEHo+QBA6w0JwTkqtUHDYVbBve1uvjahaUE9+ZvBGtxlwd1epEEWK8DA60+1P0HEyMFzDXHAfudyv13pCkEnWK\\u002fBk5QBwldGhcGJx5u+LDs8wQLAbEFNyFzBhnsCwsCAtMGvAytBCveZwOdHr8EufhZBBV1CQQ\\u002fUG8J5eKdA4n9mwRNmV0AuRZvB+e6ZwX48wcHQsItBQjMIQG+dI0H+uwdBz9gFQqmKucGzA07AGuevQAKyPMFM7uFBQ0vlwP6SgsHqhHRBs8WgwayxgEGKu5vB40UXwZE7usF1BnBAJ7TiQeeDl74B3pDAmgMRwuE7U0EheaXBKvaRwUntyMEkqO1AcmosQRT2KcEG1dZBm8GAwXGuGsGKK5PAitx9wUEBjMAzvthAfLTiv2vrmEEyTSDB6iNLQUhpgUFvdMK\\u002fgeZHwAHb9MH9j\\u002fHBQ\\u002f2fwBYFVkGmCLzBx41HQJWdfcGASRbBH+HdvgI7+MGdys7BxtRZvlhwAkDnZylBzREyP\\u002fBw\\u002fsAaE67BLqolwVDP+r\\u002fPNlpB3\\u002fm4wUlyxsGrs7BBR6\\u002fnQRDAtUCvOkBB0NGfQbfGzUDDFuLBW7H2QXMA3cEnx0pAGreWQTQ6i8F8heBBi9OUQXA5DEKmZZpB8mQfwSs6\\u002fcGzqClApS7AQQjIk8H5VxZCNHOYwQo8rMFLJcrA05SKwQz18sELGenBGS7Zvz1\\u002fyD+5\\u002fcnBIrcxwbbo78FOIplBr+HhwTxmBcLL6qHBxFIXwAQSL0HfawtA40xVwI8gZ0EQJgvBGU0Fwjd\\u002fz8FA9ExBD\\u002fS7QSKcRMCqRRrCjzVdwXM\\u002ffsDEnffBOkd8wSU4UL8+lclBzakCQtUFssFLT6ZBmwYEwikmDcL7iY\\u002fAvmKXQbuym0EiIpfBZyZIwItm8MGbMinBMUv\\u002fwYQ37sA=\"},\"xaxis\":\"x\",\"y\":{\"dtype\":\"f4\",\"bdata\":\"miB+wXB\\u002fLEEnC1LBZNYewTCSdsEUD7u\\u002frOW0wCkOlEGVPUxAn2icwWxm3EF2NQTBxIyBwQpmsD9IKQBBsZJPwYCUFcH15MXBCTJqQF47pUHFX6rA0qOQwWJaLMEEbAHBeVEmQtzrDsFD+zzAVa8pQQBeDcCNHbdBaSkywWFEnMHIM6XAJeVCQQ7A+EB66rFAEoEpQV7OY8CGHbDB\\u002fjWjwZiPMUCfdurBsUgiwaxlOMF6st2\\u002fHXcEQZQzAULij7PBjZWlwbJAuEE3URDCs6PvP6pW9EHqX39AvFP5wdVLksCAy11BL6pMwfWTZ0Azk29BG\\u002fEcwWR1jsEMExxBLxedwdyB0cDkL7FB0M0qwQw8ycGFRQRCTmxZwXtjBMKaohpC7vIxQbNNhUF69RBAe3blQRjPv0GcaijB5RhdwVAUi0DzUqRBVF\\u002fqQEoxFkEjYRPBFkDOwX+3UMFKloJBQY\\u002f8wPjICsIg7fdAU+pewIixqcHgBXzBjjcCwQNBZUHFdYvBoMDfweb1kEEWJKZB6qIbQm8508EJxxFC1EcwQXgpj8Dus+tBK38GwXA9ScGZCxpCJnOrQbBez8E68o\\u002fBra7YQVlcTkGpwLZBlVkgQuiiG0JCP8tB4T4GwksthMHjObtB6iQdwoGMDUKRruDBTCrpQY838sAPmC1BY9sTwrU9zsHPWjlBFPSywHyQ6cH\\u002fMedAbR\\u002fJwU33wkE1TtJBQLIsQEcszMAj9DHBFJtiwT5TmcF8KN5BdTltQa\\u002fgOEGmR9jAtGF9wbQyy0D62LbBxolCQaDpK8B+3wDCvBuMwW2QecETDwpBfs3GQXNXzcFLGvbBz1b2wTmQ+EDO6cHA8lobwkIAPUHtiWrAzOC5wU9tnEEKmftBbMRrwU47g8HWomhBhPynwQsUN8EGzGDBxsGuweUCY8EefwtCCVrawDqFu0BHrm3B9+xNQYeYpMEjYYTBuYesQYhaSkEF8ZtAObKowVmhjcFy0rRBxhtTQQuo2UAgdFnBkOCswYOEOUFHSbxBAo5WQT+Xv8GJo8ZBvg9QwT7mVsHB+djAg1wIwArLxME=\"},\"yaxis\":\"y\",\"type\":\"scatter\"}],                        {\"template\":{\"data\":{\"histogram2dcontour\":[{\"type\":\"histogram2dcontour\",\"colorbar\":{\"outlinewidth\":0,\"ticks\":\"\"},\"colorscale\":[[0.0,\"#0d0887\"],[0.1111111111111111,\"#46039f\"],[0.2222222222222222,\"#7201a8\"],[0.3333333333333333,\"#9c179e\"],[0.4444444444444444,\"#bd3786\"],[0.5555555555555556,\"#d8576b\"],[0.6666666666666666,\"#ed7953\"],[0.7777777777777778,\"#fb9f3a\"],[0.8888888888888888,\"#fdca26\"],[1.0,\"#f0f921\"]]}],\"choropleth\":[{\"type\":\"choropleth\",\"colorbar\":{\"outlinewidth\":0,\"ticks\":\"\"}}],\"histogram2d\":[{\"type\":\"histogram2d\",\"colorbar\":{\"outlinewidth\":0,\"ticks\":\"\"},\"colorscale\":[[0.0,\"#0d0887\"],[0.1111111111111111,\"#46039f\"],[0.2222222222222222,\"#7201a8\"],[0.3333333333333333,\"#9c179e\"],[0.4444444444444444,\"#bd3786\"],[0.5555555555555556,\"#d8576b\"],[0.6666666666666666,\"#ed7953\"],[0.7777777777777778,\"#fb9f3a\"],[0.8888888888888888,\"#fdca26\"],[1.0,\"#f0f921\"]]}],\"heatmap\":[{\"type\":\"heatmap\",\"colorbar\":{\"outlinewidth\":0,\"ticks\":\"\"},\"colorscale\":[[0.0,\"#0d0887\"],[0.1111111111111111,\"#46039f\"],[0.2222222222222222,\"#7201a8\"],[0.3333333333333333,\"#9c179e\"],[0.4444444444444444,\"#bd3786\"],[0.5555555555555556,\"#d8576b\"],[0.6666666666666666,\"#ed7953\"],[0.7777777777777778,\"#fb9f3a\"],[0.8888888888888888,\"#fdca26\"],[1.0,\"#f0f921\"]]}],\"contourcarpet\":[{\"type\":\"contourcarpet\",\"colorbar\":{\"outlinewidth\":0,\"ticks\":\"\"}}],\"contour\":[{\"type\":\"contour\",\"colorbar\":{\"outlinewidth\":0,\"ticks\":\"\"},\"colorscale\":[[0.0,\"#0d0887\"],[0.1111111111111111,\"#46039f\"],[0.2222222222222222,\"#7201a8\"],[0.3333333333333333,\"#9c179e\"],[0.4444444444444444,\"#bd3786\"],[0.5555555555555556,\"#d8576b\"],[0.6666666666666666,\"#ed7953\"],[0.7777777777777778,\"#fb9f3a\"],[0.8888888888888888,\"#fdca26\"],[1.0,\"#f0f921\"]]}],\"surface\":[{\"type\":\"surface\",\"colorbar\":{\"outlinewidth\":0,\"ticks\":\"\"},\"colorscale\":[[0.0,\"#0d0887\"],[0.1111111111111111,\"#46039f\"],[0.2222222222222222,\"#7201a8\"],[0.3333333333333333,\"#9c179e\"],[0.4444444444444444,\"#bd3786\"],[0.5555555555555556,\"#d8576b\"],[0.6666666666666666,\"#ed7953\"],[0.7777777777777778,\"#fb9f3a\"],[0.8888888888888888,\"#fdca26\"],[1.0,\"#f0f921\"]]}],\"mesh3d\":[{\"type\":\"mesh3d\",\"colorbar\":{\"outlinewidth\":0,\"ticks\":\"\"}}],\"scatter\":[{\"fillpattern\":{\"fillmode\":\"overlay\",\"size\":10,\"solidity\":0.2},\"type\":\"scatter\"}],\"parcoords\":[{\"type\":\"parcoords\",\"line\":{\"colorbar\":{\"outlinewidth\":0,\"ticks\":\"\"}}}],\"scatterpolargl\":[{\"type\":\"scatterpolargl\",\"marker\":{\"colorbar\":{\"outlinewidth\":0,\"ticks\":\"\"}}}],\"bar\":[{\"error_x\":{\"color\":\"#2a3f5f\"},\"error_y\":{\"color\":\"#2a3f5f\"},\"marker\":{\"line\":{\"color\":\"#E5ECF6\",\"width\":0.5},\"pattern\":{\"fillmode\":\"overlay\",\"size\":10,\"solidity\":0.2}},\"type\":\"bar\"}],\"scattergeo\":[{\"type\":\"scattergeo\",\"marker\":{\"colorbar\":{\"outlinewidth\":0,\"ticks\":\"\"}}}],\"scatterpolar\":[{\"type\":\"scatterpolar\",\"marker\":{\"colorbar\":{\"outlinewidth\":0,\"ticks\":\"\"}}}],\"histogram\":[{\"marker\":{\"pattern\":{\"fillmode\":\"overlay\",\"size\":10,\"solidity\":0.2}},\"type\":\"histogram\"}],\"scattergl\":[{\"type\":\"scattergl\",\"marker\":{\"colorbar\":{\"outlinewidth\":0,\"ticks\":\"\"}}}],\"scatter3d\":[{\"type\":\"scatter3d\",\"line\":{\"colorbar\":{\"outlinewidth\":0,\"ticks\":\"\"}},\"marker\":{\"colorbar\":{\"outlinewidth\":0,\"ticks\":\"\"}}}],\"scattermap\":[{\"type\":\"scattermap\",\"marker\":{\"colorbar\":{\"outlinewidth\":0,\"ticks\":\"\"}}}],\"scattermapbox\":[{\"type\":\"scattermapbox\",\"marker\":{\"colorbar\":{\"outlinewidth\":0,\"ticks\":\"\"}}}],\"scatterternary\":[{\"type\":\"scatterternary\",\"marker\":{\"colorbar\":{\"outlinewidth\":0,\"ticks\":\"\"}}}],\"scattercarpet\":[{\"type\":\"scattercarpet\",\"marker\":{\"colorbar\":{\"outlinewidth\":0,\"ticks\":\"\"}}}],\"carpet\":[{\"aaxis\":{\"endlinecolor\":\"#2a3f5f\",\"gridcolor\":\"white\",\"linecolor\":\"white\",\"minorgridcolor\":\"white\",\"startlinecolor\":\"#2a3f5f\"},\"baxis\":{\"endlinecolor\":\"#2a3f5f\",\"gridcolor\":\"white\",\"linecolor\":\"white\",\"minorgridcolor\":\"white\",\"startlinecolor\":\"#2a3f5f\"},\"type\":\"carpet\"}],\"table\":[{\"cells\":{\"fill\":{\"color\":\"#EBF0F8\"},\"line\":{\"color\":\"white\"}},\"header\":{\"fill\":{\"color\":\"#C8D4E3\"},\"line\":{\"color\":\"white\"}},\"type\":\"table\"}],\"barpolar\":[{\"marker\":{\"line\":{\"color\":\"#E5ECF6\",\"width\":0.5},\"pattern\":{\"fillmode\":\"overlay\",\"size\":10,\"solidity\":0.2}},\"type\":\"barpolar\"}],\"pie\":[{\"automargin\":true,\"type\":\"pie\"}]},\"layout\":{\"autotypenumbers\":\"strict\",\"colorway\":[\"#636efa\",\"#EF553B\",\"#00cc96\",\"#ab63fa\",\"#FFA15A\",\"#19d3f3\",\"#FF6692\",\"#B6E880\",\"#FF97FF\",\"#FECB52\"],\"font\":{\"color\":\"#2a3f5f\"},\"hovermode\":\"closest\",\"hoverlabel\":{\"align\":\"left\"},\"paper_bgcolor\":\"white\",\"plot_bgcolor\":\"#E5ECF6\",\"polar\":{\"bgcolor\":\"#E5ECF6\",\"angularaxis\":{\"gridcolor\":\"white\",\"linecolor\":\"white\",\"ticks\":\"\"},\"radialaxis\":{\"gridcolor\":\"white\",\"linecolor\":\"white\",\"ticks\":\"\"}},\"ternary\":{\"bgcolor\":\"#E5ECF6\",\"aaxis\":{\"gridcolor\":\"white\",\"linecolor\":\"white\",\"ticks\":\"\"},\"baxis\":{\"gridcolor\":\"white\",\"linecolor\":\"white\",\"ticks\":\"\"},\"caxis\":{\"gridcolor\":\"white\",\"linecolor\":\"white\",\"ticks\":\"\"}},\"coloraxis\":{\"colorbar\":{\"outlinewidth\":0,\"ticks\":\"\"}},\"colorscale\":{\"sequential\":[[0.0,\"#0d0887\"],[0.1111111111111111,\"#46039f\"],[0.2222222222222222,\"#7201a8\"],[0.3333333333333333,\"#9c179e\"],[0.4444444444444444,\"#bd3786\"],[0.5555555555555556,\"#d8576b\"],[0.6666666666666666,\"#ed7953\"],[0.7777777777777778,\"#fb9f3a\"],[0.8888888888888888,\"#fdca26\"],[1.0,\"#f0f921\"]],\"sequentialminus\":[[0.0,\"#0d0887\"],[0.1111111111111111,\"#46039f\"],[0.2222222222222222,\"#7201a8\"],[0.3333333333333333,\"#9c179e\"],[0.4444444444444444,\"#bd3786\"],[0.5555555555555556,\"#d8576b\"],[0.6666666666666666,\"#ed7953\"],[0.7777777777777778,\"#fb9f3a\"],[0.8888888888888888,\"#fdca26\"],[1.0,\"#f0f921\"]],\"diverging\":[[0,\"#8e0152\"],[0.1,\"#c51b7d\"],[0.2,\"#de77ae\"],[0.3,\"#f1b6da\"],[0.4,\"#fde0ef\"],[0.5,\"#f7f7f7\"],[0.6,\"#e6f5d0\"],[0.7,\"#b8e186\"],[0.8,\"#7fbc41\"],[0.9,\"#4d9221\"],[1,\"#276419\"]]},\"xaxis\":{\"gridcolor\":\"white\",\"linecolor\":\"white\",\"ticks\":\"\",\"title\":{\"standoff\":15},\"zerolinecolor\":\"white\",\"automargin\":true,\"zerolinewidth\":2},\"yaxis\":{\"gridcolor\":\"white\",\"linecolor\":\"white\",\"ticks\":\"\",\"title\":{\"standoff\":15},\"zerolinecolor\":\"white\",\"automargin\":true,\"zerolinewidth\":2},\"scene\":{\"xaxis\":{\"backgroundcolor\":\"#E5ECF6\",\"gridcolor\":\"white\",\"linecolor\":\"white\",\"showbackground\":true,\"ticks\":\"\",\"zerolinecolor\":\"white\",\"gridwidth\":2},\"yaxis\":{\"backgroundcolor\":\"#E5ECF6\",\"gridcolor\":\"white\",\"linecolor\":\"white\",\"showbackground\":true,\"ticks\":\"\",\"zerolinecolor\":\"white\",\"gridwidth\":2},\"zaxis\":{\"backgroundcolor\":\"#E5ECF6\",\"gridcolor\":\"white\",\"linecolor\":\"white\",\"showbackground\":true,\"ticks\":\"\",\"zerolinecolor\":\"white\",\"gridwidth\":2}},\"shapedefaults\":{\"line\":{\"color\":\"#2a3f5f\"}},\"annotationdefaults\":{\"arrowcolor\":\"#2a3f5f\",\"arrowhead\":0,\"arrowwidth\":1},\"geo\":{\"bgcolor\":\"white\",\"landcolor\":\"#E5ECF6\",\"subunitcolor\":\"white\",\"showland\":true,\"showlakes\":true,\"lakecolor\":\"white\"},\"title\":{\"x\":0.05},\"mapbox\":{\"style\":\"light\"}}},\"xaxis\":{\"anchor\":\"y\",\"domain\":[0.0,1.0],\"title\":{\"text\":\"x\"}},\"yaxis\":{\"anchor\":\"x\",\"domain\":[0.0,1.0],\"title\":{\"text\":\"y\"}},\"legend\":{\"tracegroupgap\":0},\"margin\":{\"t\":60}},                        {\"responsive\": true}                    ).then(function(){\n",
       "                            \n",
       "var gd = document.getElementById('6732a1ed-745c-43c8-b179-4ec2fb5c344c');\n",
       "var x = new MutationObserver(function (mutations, observer) {{\n",
       "        var display = window.getComputedStyle(gd).display;\n",
       "        if (!display || display === 'none') {{\n",
       "            console.log([gd, 'removed!']);\n",
       "            Plotly.purge(gd);\n",
       "            observer.disconnect();\n",
       "        }}\n",
       "}});\n",
       "\n",
       "// Listen for the removal of the full notebook cells\n",
       "var notebookContainer = gd.closest('#notebook-container');\n",
       "if (notebookContainer) {{\n",
       "    x.observe(notebookContainer, {childList: true});\n",
       "}}\n",
       "\n",
       "// Listen for the clearing of the current output cell\n",
       "var outputEl = gd.closest('.output');\n",
       "if (outputEl) {{\n",
       "    x.observe(outputEl, {childList: true});\n",
       "}}\n",
       "\n",
       "                        })                };            </script>        </div>\n",
       "</body>\n",
       "</html>"
      ]
     },
     "metadata": {},
     "output_type": "display_data"
    }
   ],
   "source": [
    "# Graficar los embedddings en 2D\n",
    "import plotly.graph_objects as go\n",
    "import plotly.express as px\n",
    "\n",
    "vecs, labels = reduce_dimensions(w2v_model)\n",
    "\n",
    "MAX_WORDS=200\n",
    "fig = px.scatter(x=vecs[:MAX_WORDS,0], y=vecs[:MAX_WORDS,1], text=labels[:MAX_WORDS])\n",
    "fig.show(renderer=\"colab\") # esto para plotly en colab"
   ]
  },
  {
   "cell_type": "code",
   "execution_count": 16,
   "id": "17f57beb",
   "metadata": {},
   "outputs": [
    {
     "data": {
      "text/html": [
       "<html>\n",
       "<head><meta charset=\"utf-8\" /></head>\n",
       "<body>\n",
       "    <div>            <script src=\"https://cdnjs.cloudflare.com/ajax/libs/mathjax/2.7.5/MathJax.js?config=TeX-AMS-MML_SVG\"></script><script type=\"text/javascript\">if (window.MathJax && window.MathJax.Hub && window.MathJax.Hub.Config) {window.MathJax.Hub.Config({SVG: {font: \"STIX-Web\"}});}</script>                <script type=\"text/javascript\">window.PlotlyConfig = {MathJaxConfig: 'local'};</script>\n",
       "        <script charset=\"utf-8\" src=\"https://cdn.plot.ly/plotly-3.1.0.min.js\" integrity=\"sha256-Ei4740bWZhaUTQuD6q9yQlgVCMPBz6CZWhevDYPv93A=\" crossorigin=\"anonymous\"></script>                <div id=\"4aa7d222-2513-4ef8-a2d6-43ea10cfccb6\" class=\"plotly-graph-div\" style=\"height:525px; width:100%;\"></div>            <script type=\"text/javascript\">                window.PLOTLYENV=window.PLOTLYENV || {};                                if (document.getElementById(\"4aa7d222-2513-4ef8-a2d6-43ea10cfccb6\")) {                    Plotly.newPlot(                        \"4aa7d222-2513-4ef8-a2d6-43ea10cfccb6\",                        [{\"hovertemplate\":\"x=%{x}\\u003cbr\\u003ey=%{y}\\u003cbr\\u003ez=%{z}\\u003cbr\\u003etext=%{text}\\u003cextra\\u003e\\u003c\\u002fextra\\u003e\",\"legendgroup\":\"\",\"marker\":{\"color\":\"#636efa\",\"symbol\":\"circle\",\"size\":2},\"mode\":\"markers+text\",\"name\":\"\",\"scene\":\"scene\",\"showlegend\":false,\"text\":[\"you\",\"the\",\"me\",\"to\",\"oh\",\"it\",\"and\",\"that\",\"my\",\"love\",\"be\",\"don\",\"in\",\"baby\",\"your\",\"yeah\",\"we\",\"no\",\"one\",\"all\",\"girl\",\"like\",\"do\",\"can\",\"re\",\"what\",\"know\",\"is\",\"with\",\"for\",\"but\",\"so\",\"up\",\"on\",\"cause\",\"make\",\"got\",\"need\",\"if\",\"let\",\"right\",\"never\",\"now\",\"just\",\"when\",\"want\",\"ll\",\"go\",\"she\",\"of\",\"time\",\"wanna\",\"there\",\"heart\",\"say\",\"down\",\"this\",\"us\",\"only\",\"smile\",\"see\",\"get\",\"ain\",\"tell\",\"back\",\"out\",\"are\",\"was\",\"life\",\"whoa\",\"could\",\"gonna\",\"at\",\"have\",\"ooh\",\"should\",\"would\",\"nothing\",\"how\",\"hey\",\"world\",\"not\",\"gotta\",\"here\",\"as\",\"where\",\"give\",\"mean\",\"take\",\"mind\",\"way\",\"believe\",\"away\",\"from\",\"they\",\"without\",\"had\",\"around\",\"ve\",\"less\",\"will\",\"live\",\"better\",\"somebody\",\"show\",\"everything\",\"ever\",\"alright\",\"been\",\"crazy\",\"madly\",\"think\",\"more\",\"about\",\"mine\",\"lonely\",\"day\",\"her\",\"am\",\"eyes\",\"doing\",\"through\",\"thought\",\"always\",\"keep\",\"still\",\"every\",\"na\",\"than\",\"earth\",\"first\",\"coming\",\"long\",\"who\",\"said\",\"ya\",\"come\",\"or\",\"eh\",\"babe\",\"gone\",\"over\",\"nobody\",\"favorite\",\"body\",\"an\",\"too\",\"won\",\"lose\",\"by\",\"much\",\"feel\",\"shawty\",\"next\",\"our\",\"sometimes\",\"another\",\"didn\",\"leave\",\"unless\",\"look\",\"put\",\"fight\",\"tonight\",\"other\",\"then\",\"hard\",\"truth\",\"yourself\",\"together\",\"hand\",\"fall\",\"best\",\"ma\",\"really\",\"trust\",\"between\",\"sky\",\"fly\",\"hold\",\"thing\",\"were\",\"dream\",\"left\",\"home\",\"pray\",\"chorus\",\"alone\",\"call\",\"why\",\"good\",\"known\",\"stress\",\"sorry\",\"standing\",\"did\",\"maybe\",\"stay\",\"sleep\",\"nowhere\"],\"x\":{\"dtype\":\"f4\",\"bdata\":\"\\u002fb4IweVwfsHAUji\\u002fMj68wW4rlEFwIGfBCtY5wDp4SsFbBDg\\u002f+oaNwd00TMHzVuDBLjajwM77vkFlJi5BuSixQQHIOL9R6oJB0Bq8wTyvQ79XkjZBqdZpwSBX78EVTM7ApsUHwd3FEcKhvRLCbAabQfqQKUFcKa9A12CewQn7fUF7X0DBEPAJQfbsCkHHi5vBPAibwBOUw8Bp4eTB9\\u002f0ywcYh5MEkvQrBcRCYwHedWcH\\u002fFdLBXPbjwTtEq8Fj9U7BY55LwdEGe0EmCcXBILcFwn2ShcGplr1Aa8PSwGBu0cGfTs2\\u002fYC+lQdMz28HxIKDAzw+Gwe2wvMBeY43BM3m3wDx00sF1WQNBjeSqwII0gkF9qtJBzHTkQWw4\\u002fMBvsvlBzrb7QC5EyMERPtFBUMxmQP92wMFTqNE\\u002f7zMgwjuvqUGa9RTC6esNwU6VwcG+k+fADj2RQedMbD8hyQfC4rEJwqLAzEH6ZTXBlnSWwfFo+8H1dhZAifEaQZoT28BTplZBwLbRQINcsMCjI8dAMNoPwtxFn8BCeAFCHYikP7eLpMBLARjCD+O8QXRsgUCjV\\u002fxBIh2IQG0h6MF587jBmIVCwR3D80Bt9GPBve9YQTENDsJOwbTB9gcvQRWIvsEDCt7AIzsRQdcK\\u002fUFKYF5BvGKKQSHBnMDSb77BSU6UwXuF7MDwTUhBURXXwTegq8BZWIxBPRKsQVMjDEEPGMFAfHvSQQ5QKD+R35jB+bu4QTKaycHTnJw+ac+oQXVbhMEPvGhBZrh1QdzU6UFcZ5FBwJ0sQBDT4cGQb4JA4+VkQaFTlMGAawhC\\u002fyvlwULpTj9JQUPBt+W5v+NV2MG6yszBJDMnwuA0Dj8YzJjBAkN9wSGUEsKZqLVBvYjQwSDUs8HfKBrBmtLWwdIlAUADvPE\\u002fkX3jwcCNNUGNsZtA\\u002fgL3wUKKrMF+GKJB5wF8QdU2wsGdtC\\u002fC5+CQwKKf\\u002fMD66gjC9JF3wTeamsDur5lBqUTUQUrLYMErau1AB+OBwWRUusEKBQtAWZe2QSv+mUG81dzB9Fe1PyEhu8EDp6HBk5HPwZQsvMA=\"},\"y\":{\"dtype\":\"f4\",\"bdata\":\"99sJQQp\\u002fAkIuLGJBAZf1Pzp4jsFeoyHA4qkXwcyt0kFY1sO\\u002fQcpnQYt4CcDsjFk\\u002f1pEEwIzyPcEB5dw\\u002fS4LRwZDHi8ErgYDBaFqDQX+YyEEj25FBRMKhQVEkVUEN4qTBCzD7v24pY0E0UgTAhkpxQeLl6kBLLANC0He1wcr1TcG9QGfB6JwFwsmaoz+BM7HBNe4pwTJppcHMPwDBN+xVQf7aOcEFg05BUHN\\u002fwQybQkHp0elA4kkGwdCaxb+2CMhBCD04wb+NjEGmIQXCq4wWviCpx0CbXWLB+RE6QUR68kAClA5B6lyQQaxJTUFJrNXBV3aGwdSajUFsBYbBHIK1QWz0fEGn0iVBUK3Vwe37L8Dct1JAqDevwSU7o8AvsabBqti8wYvn3MHidahBTaSrQVPiWsFYRe1BWBLkvygg2MCSWdhB+MiYQaqTlsEc0RlCiJ5IQTytvMHIsIFBKsKBQVM660EF3KDBz5KqQJyHrMHHgWLAknhpwWnLckHYscPBN65ZwAPDp0E\\u002fc7dBqf7fwRx0E0EfV6FA2bsKwqmZicGZLwlBRgiTwXM7FkIHrYrBqzGnQV31q0HCUmdBHtKhQPSgQkEX457B1nofQKJb88GDwhBCZEAPwsd0hkEcz9HBUMHIwf8T1sH9NXTAIiM+QDCVwsEGzp7BriIAwvNUuECzHEtBEUc+QV4wfUDtKpXBO18pQV9K3kGAAahB0ZajwM2nOcF3bItB23WbwazX+kBTjdBB1qaQv4Lp08F6QslBtX+gwX5jgEFO+NzBr3YPwQTVOMCuYv3Bc1OQwS+TaUEDtY5BDfwrwTvcXcHstWlB04GywTqQc8FYVStB7IBJwcVZ+MFX9YhBkBp1wNGPFL\\u002fToapBbpp+QcVGsEFTbvXB9RDVP94EwsFDAwNCn1G+v47zG0LrPLlBNRbeQNrFsMGCepxBaNcGwZ8T5D6q8d5AUPMOQt0w60EjxDjBQo4BQXyEoEDyJ7JBiMunQTGJscEOyYXBdDzSQYK04kGmMOBBFe6cwE5y\\u002fMHT\\u002fybBD2GKwaXmuUFVCQpCAgBev5K7w8A=\"},\"z\":{\"dtype\":\"f4\",\"bdata\":\"qe1NwfuoREGvWXPB2rm+P1EPtUAHdVzB99RIwduZm0Fg0JrBAEeKwRXu6MENgaRBsnnAwaCQC0FHYqXB\\u002foyUQNGbXsFi9UJBJOnsQfKbXkGXD\\u002fzA1cxzwag8icEmG2jBePYmQld9hMHK\\u002ffTAesCVv8jM0cGps25ByV+aQbm85cBuEVnBPuGzQGXBZ0G+NYLAzyqLQUVfzUGDJ8RBy7MSQomtDsG12K7BnS+pQKLu7EAjr5NBT315QYqvCMJnlMrBhSr1QYfHrkHgfQTB06ugvwLjA8J\\u002fZ2XBt8rlwVl\\u002fE0FB9VlBdfUDwajNxkEXMY5BsQdfQafSFkJ6Ca5AdKVgwQ04L0FJRvZB+xs6P4fxzsH+rpZBYFkLv\\u002fmDH8K0PLTBuLuEQeekPUFwzWpB\\u002fpWewbjU0cGzVwBCPHogQcZOx0FoPWm\\u002fBfBdPQwKFD7AjkXA2YP0wUJ4tr9Uay7AU+wbwelqrcDHpbXA9a+LQdHlHUGz3OJB0IV0QWebAkHgtPy9IwnjwaGbdUEiarA\\u002fotkuwDKLj8GCpeBBA9y1QJvE+0FC9LO\\u002flNaxwXazXUAR6oLBCuf9QCikMUBWIJ3BvuQBQtvXJkGjF+PBipn6wf9Uwr89EdHA885MwS+uXMGUvdvB\\u002f96sQPg5P8EocQXCh1QIwoo6BMEUJDpBdNxuwd55u8GGUydBIcYNQTJABcLJGL9BywrpwdjWmEF3iuZBTddAwXeLncGcF\\u002fPA8YG4QFmErsHkJMS8bOf0QU2OKEF1GNfARV6BwYQ8SsH4q97AVggYQXwdfsFvp3\\u002fBzHYFwBssz8E4mdjAYbGQwVIlAsIALezB2NW8wVB1jkFnULfAPIZqQBlUPEGUS9lAHFULQsJcucFkOtxBQI\\u002fzPpRPoMFS2RLB5mT\\u002fQY\\u002fSH8HQM6fBeG\\u002frQaDVbMCH+NLBZRDYwNpx4UHCTILB+C8VQoV75UEIVuTArzdHQew02MDEY0ZBcHiswTsN+kGvtAlBJfSrP1MwOcGpIabBJoEpwS3GPsE1fcVAvNrpQWkljcCXtKXBckrvwGzTKL+ghypA1ZyNwQDNkME=\"},\"type\":\"scatter3d\"}],                        {\"template\":{\"data\":{\"histogram2dcontour\":[{\"type\":\"histogram2dcontour\",\"colorbar\":{\"outlinewidth\":0,\"ticks\":\"\"},\"colorscale\":[[0.0,\"#0d0887\"],[0.1111111111111111,\"#46039f\"],[0.2222222222222222,\"#7201a8\"],[0.3333333333333333,\"#9c179e\"],[0.4444444444444444,\"#bd3786\"],[0.5555555555555556,\"#d8576b\"],[0.6666666666666666,\"#ed7953\"],[0.7777777777777778,\"#fb9f3a\"],[0.8888888888888888,\"#fdca26\"],[1.0,\"#f0f921\"]]}],\"choropleth\":[{\"type\":\"choropleth\",\"colorbar\":{\"outlinewidth\":0,\"ticks\":\"\"}}],\"histogram2d\":[{\"type\":\"histogram2d\",\"colorbar\":{\"outlinewidth\":0,\"ticks\":\"\"},\"colorscale\":[[0.0,\"#0d0887\"],[0.1111111111111111,\"#46039f\"],[0.2222222222222222,\"#7201a8\"],[0.3333333333333333,\"#9c179e\"],[0.4444444444444444,\"#bd3786\"],[0.5555555555555556,\"#d8576b\"],[0.6666666666666666,\"#ed7953\"],[0.7777777777777778,\"#fb9f3a\"],[0.8888888888888888,\"#fdca26\"],[1.0,\"#f0f921\"]]}],\"heatmap\":[{\"type\":\"heatmap\",\"colorbar\":{\"outlinewidth\":0,\"ticks\":\"\"},\"colorscale\":[[0.0,\"#0d0887\"],[0.1111111111111111,\"#46039f\"],[0.2222222222222222,\"#7201a8\"],[0.3333333333333333,\"#9c179e\"],[0.4444444444444444,\"#bd3786\"],[0.5555555555555556,\"#d8576b\"],[0.6666666666666666,\"#ed7953\"],[0.7777777777777778,\"#fb9f3a\"],[0.8888888888888888,\"#fdca26\"],[1.0,\"#f0f921\"]]}],\"contourcarpet\":[{\"type\":\"contourcarpet\",\"colorbar\":{\"outlinewidth\":0,\"ticks\":\"\"}}],\"contour\":[{\"type\":\"contour\",\"colorbar\":{\"outlinewidth\":0,\"ticks\":\"\"},\"colorscale\":[[0.0,\"#0d0887\"],[0.1111111111111111,\"#46039f\"],[0.2222222222222222,\"#7201a8\"],[0.3333333333333333,\"#9c179e\"],[0.4444444444444444,\"#bd3786\"],[0.5555555555555556,\"#d8576b\"],[0.6666666666666666,\"#ed7953\"],[0.7777777777777778,\"#fb9f3a\"],[0.8888888888888888,\"#fdca26\"],[1.0,\"#f0f921\"]]}],\"surface\":[{\"type\":\"surface\",\"colorbar\":{\"outlinewidth\":0,\"ticks\":\"\"},\"colorscale\":[[0.0,\"#0d0887\"],[0.1111111111111111,\"#46039f\"],[0.2222222222222222,\"#7201a8\"],[0.3333333333333333,\"#9c179e\"],[0.4444444444444444,\"#bd3786\"],[0.5555555555555556,\"#d8576b\"],[0.6666666666666666,\"#ed7953\"],[0.7777777777777778,\"#fb9f3a\"],[0.8888888888888888,\"#fdca26\"],[1.0,\"#f0f921\"]]}],\"mesh3d\":[{\"type\":\"mesh3d\",\"colorbar\":{\"outlinewidth\":0,\"ticks\":\"\"}}],\"scatter\":[{\"fillpattern\":{\"fillmode\":\"overlay\",\"size\":10,\"solidity\":0.2},\"type\":\"scatter\"}],\"parcoords\":[{\"type\":\"parcoords\",\"line\":{\"colorbar\":{\"outlinewidth\":0,\"ticks\":\"\"}}}],\"scatterpolargl\":[{\"type\":\"scatterpolargl\",\"marker\":{\"colorbar\":{\"outlinewidth\":0,\"ticks\":\"\"}}}],\"bar\":[{\"error_x\":{\"color\":\"#2a3f5f\"},\"error_y\":{\"color\":\"#2a3f5f\"},\"marker\":{\"line\":{\"color\":\"#E5ECF6\",\"width\":0.5},\"pattern\":{\"fillmode\":\"overlay\",\"size\":10,\"solidity\":0.2}},\"type\":\"bar\"}],\"scattergeo\":[{\"type\":\"scattergeo\",\"marker\":{\"colorbar\":{\"outlinewidth\":0,\"ticks\":\"\"}}}],\"scatterpolar\":[{\"type\":\"scatterpolar\",\"marker\":{\"colorbar\":{\"outlinewidth\":0,\"ticks\":\"\"}}}],\"histogram\":[{\"marker\":{\"pattern\":{\"fillmode\":\"overlay\",\"size\":10,\"solidity\":0.2}},\"type\":\"histogram\"}],\"scattergl\":[{\"type\":\"scattergl\",\"marker\":{\"colorbar\":{\"outlinewidth\":0,\"ticks\":\"\"}}}],\"scatter3d\":[{\"type\":\"scatter3d\",\"line\":{\"colorbar\":{\"outlinewidth\":0,\"ticks\":\"\"}},\"marker\":{\"colorbar\":{\"outlinewidth\":0,\"ticks\":\"\"}}}],\"scattermap\":[{\"type\":\"scattermap\",\"marker\":{\"colorbar\":{\"outlinewidth\":0,\"ticks\":\"\"}}}],\"scattermapbox\":[{\"type\":\"scattermapbox\",\"marker\":{\"colorbar\":{\"outlinewidth\":0,\"ticks\":\"\"}}}],\"scatterternary\":[{\"type\":\"scatterternary\",\"marker\":{\"colorbar\":{\"outlinewidth\":0,\"ticks\":\"\"}}}],\"scattercarpet\":[{\"type\":\"scattercarpet\",\"marker\":{\"colorbar\":{\"outlinewidth\":0,\"ticks\":\"\"}}}],\"carpet\":[{\"aaxis\":{\"endlinecolor\":\"#2a3f5f\",\"gridcolor\":\"white\",\"linecolor\":\"white\",\"minorgridcolor\":\"white\",\"startlinecolor\":\"#2a3f5f\"},\"baxis\":{\"endlinecolor\":\"#2a3f5f\",\"gridcolor\":\"white\",\"linecolor\":\"white\",\"minorgridcolor\":\"white\",\"startlinecolor\":\"#2a3f5f\"},\"type\":\"carpet\"}],\"table\":[{\"cells\":{\"fill\":{\"color\":\"#EBF0F8\"},\"line\":{\"color\":\"white\"}},\"header\":{\"fill\":{\"color\":\"#C8D4E3\"},\"line\":{\"color\":\"white\"}},\"type\":\"table\"}],\"barpolar\":[{\"marker\":{\"line\":{\"color\":\"#E5ECF6\",\"width\":0.5},\"pattern\":{\"fillmode\":\"overlay\",\"size\":10,\"solidity\":0.2}},\"type\":\"barpolar\"}],\"pie\":[{\"automargin\":true,\"type\":\"pie\"}]},\"layout\":{\"autotypenumbers\":\"strict\",\"colorway\":[\"#636efa\",\"#EF553B\",\"#00cc96\",\"#ab63fa\",\"#FFA15A\",\"#19d3f3\",\"#FF6692\",\"#B6E880\",\"#FF97FF\",\"#FECB52\"],\"font\":{\"color\":\"#2a3f5f\"},\"hovermode\":\"closest\",\"hoverlabel\":{\"align\":\"left\"},\"paper_bgcolor\":\"white\",\"plot_bgcolor\":\"#E5ECF6\",\"polar\":{\"bgcolor\":\"#E5ECF6\",\"angularaxis\":{\"gridcolor\":\"white\",\"linecolor\":\"white\",\"ticks\":\"\"},\"radialaxis\":{\"gridcolor\":\"white\",\"linecolor\":\"white\",\"ticks\":\"\"}},\"ternary\":{\"bgcolor\":\"#E5ECF6\",\"aaxis\":{\"gridcolor\":\"white\",\"linecolor\":\"white\",\"ticks\":\"\"},\"baxis\":{\"gridcolor\":\"white\",\"linecolor\":\"white\",\"ticks\":\"\"},\"caxis\":{\"gridcolor\":\"white\",\"linecolor\":\"white\",\"ticks\":\"\"}},\"coloraxis\":{\"colorbar\":{\"outlinewidth\":0,\"ticks\":\"\"}},\"colorscale\":{\"sequential\":[[0.0,\"#0d0887\"],[0.1111111111111111,\"#46039f\"],[0.2222222222222222,\"#7201a8\"],[0.3333333333333333,\"#9c179e\"],[0.4444444444444444,\"#bd3786\"],[0.5555555555555556,\"#d8576b\"],[0.6666666666666666,\"#ed7953\"],[0.7777777777777778,\"#fb9f3a\"],[0.8888888888888888,\"#fdca26\"],[1.0,\"#f0f921\"]],\"sequentialminus\":[[0.0,\"#0d0887\"],[0.1111111111111111,\"#46039f\"],[0.2222222222222222,\"#7201a8\"],[0.3333333333333333,\"#9c179e\"],[0.4444444444444444,\"#bd3786\"],[0.5555555555555556,\"#d8576b\"],[0.6666666666666666,\"#ed7953\"],[0.7777777777777778,\"#fb9f3a\"],[0.8888888888888888,\"#fdca26\"],[1.0,\"#f0f921\"]],\"diverging\":[[0,\"#8e0152\"],[0.1,\"#c51b7d\"],[0.2,\"#de77ae\"],[0.3,\"#f1b6da\"],[0.4,\"#fde0ef\"],[0.5,\"#f7f7f7\"],[0.6,\"#e6f5d0\"],[0.7,\"#b8e186\"],[0.8,\"#7fbc41\"],[0.9,\"#4d9221\"],[1,\"#276419\"]]},\"xaxis\":{\"gridcolor\":\"white\",\"linecolor\":\"white\",\"ticks\":\"\",\"title\":{\"standoff\":15},\"zerolinecolor\":\"white\",\"automargin\":true,\"zerolinewidth\":2},\"yaxis\":{\"gridcolor\":\"white\",\"linecolor\":\"white\",\"ticks\":\"\",\"title\":{\"standoff\":15},\"zerolinecolor\":\"white\",\"automargin\":true,\"zerolinewidth\":2},\"scene\":{\"xaxis\":{\"backgroundcolor\":\"#E5ECF6\",\"gridcolor\":\"white\",\"linecolor\":\"white\",\"showbackground\":true,\"ticks\":\"\",\"zerolinecolor\":\"white\",\"gridwidth\":2},\"yaxis\":{\"backgroundcolor\":\"#E5ECF6\",\"gridcolor\":\"white\",\"linecolor\":\"white\",\"showbackground\":true,\"ticks\":\"\",\"zerolinecolor\":\"white\",\"gridwidth\":2},\"zaxis\":{\"backgroundcolor\":\"#E5ECF6\",\"gridcolor\":\"white\",\"linecolor\":\"white\",\"showbackground\":true,\"ticks\":\"\",\"zerolinecolor\":\"white\",\"gridwidth\":2}},\"shapedefaults\":{\"line\":{\"color\":\"#2a3f5f\"}},\"annotationdefaults\":{\"arrowcolor\":\"#2a3f5f\",\"arrowhead\":0,\"arrowwidth\":1},\"geo\":{\"bgcolor\":\"white\",\"landcolor\":\"#E5ECF6\",\"subunitcolor\":\"white\",\"showland\":true,\"showlakes\":true,\"lakecolor\":\"white\"},\"title\":{\"x\":0.05},\"mapbox\":{\"style\":\"light\"}}},\"scene\":{\"domain\":{\"x\":[0.0,1.0],\"y\":[0.0,1.0]},\"xaxis\":{\"title\":{\"text\":\"x\"}},\"yaxis\":{\"title\":{\"text\":\"y\"}},\"zaxis\":{\"title\":{\"text\":\"z\"}}},\"legend\":{\"tracegroupgap\":0},\"margin\":{\"t\":60}},                        {\"responsive\": true}                    ).then(function(){\n",
       "                            \n",
       "var gd = document.getElementById('4aa7d222-2513-4ef8-a2d6-43ea10cfccb6');\n",
       "var x = new MutationObserver(function (mutations, observer) {{\n",
       "        var display = window.getComputedStyle(gd).display;\n",
       "        if (!display || display === 'none') {{\n",
       "            console.log([gd, 'removed!']);\n",
       "            Plotly.purge(gd);\n",
       "            observer.disconnect();\n",
       "        }}\n",
       "}});\n",
       "\n",
       "// Listen for the removal of the full notebook cells\n",
       "var notebookContainer = gd.closest('#notebook-container');\n",
       "if (notebookContainer) {{\n",
       "    x.observe(notebookContainer, {childList: true});\n",
       "}}\n",
       "\n",
       "// Listen for the clearing of the current output cell\n",
       "var outputEl = gd.closest('.output');\n",
       "if (outputEl) {{\n",
       "    x.observe(outputEl, {childList: true});\n",
       "}}\n",
       "\n",
       "                        })                };            </script>        </div>\n",
       "</body>\n",
       "</html>"
      ]
     },
     "metadata": {},
     "output_type": "display_data"
    }
   ],
   "source": [
    "# Graficar los embedddings en 3D\n",
    "\n",
    "vecs, labels = reduce_dimensions(w2v_model,3)\n",
    "\n",
    "fig = px.scatter_3d(x=vecs[:MAX_WORDS,0], y=vecs[:MAX_WORDS,1], z=vecs[:MAX_WORDS,2],text=labels[:MAX_WORDS])\n",
    "fig.update_traces(marker_size = 2)\n",
    "fig.show(renderer=\"colab\") # esto para plotly en colab"
   ]
  },
  {
   "cell_type": "markdown",
   "id": "45272c34",
   "metadata": {},
   "source": [
    "Conclusiones:\n",
    "- Los embeddings capturan bien el tono emocional de las letras de Bieber, donde predominan temas de amor, vulnerabilidad, rupturas y soledad.\n",
    "\n",
    "- Se observan clusters semánticos claros:\n",
    "\n",
    "    - Amor / cariño → (baby, love, girl)\n",
    "\n",
    "    - Dolor / ruptura → (heart, lonely)\n",
    "\n",
    "    - Honestidad / valores → (money)\n",
    "\n",
    "Esto confirma que los embeddings entrenados con Gensim reflejan el contexto específico en el que cada palabra aparece en las canciones, diferente al sentido general que tendrían en otro corpus (ej. noticias, Wikipedia).\n"
   ]
  }
 ],
 "metadata": {
  "kernelspec": {
   "display_name": "Procesamiento Lenguaje Natural",
   "language": "python",
   "name": "procesamiento_lenguaje_natural"
  },
  "language_info": {
   "codemirror_mode": {
    "name": "ipython",
    "version": 3
   },
   "file_extension": ".py",
   "mimetype": "text/x-python",
   "name": "python",
   "nbconvert_exporter": "python",
   "pygments_lexer": "ipython3",
   "version": "3.11.13"
  }
 },
 "nbformat": 4,
 "nbformat_minor": 5
}
